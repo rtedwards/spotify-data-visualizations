{
 "cells": [
  {
   "cell_type": "code",
   "execution_count": 7,
   "metadata": {},
   "outputs": [
    {
     "name": "stdout",
     "output_type": "stream",
     "text": [
      "The Fool - Moderat\n",
      "Emerald Rush - Jon Hopkins\n",
      "Blind - Radio Edit - boerd\n",
      "Soulline - Ben Böhmer\n",
      "Something Was Real - Eli & Fur\n",
      "Keep It Real (feat. Jesse Mac Cormack) - CRi\n",
      "Silent Drop - Original Mix - Dosem\n",
      "Solitude - Tontario\n",
      "Every Direction - Sunburned Hand Of The Man\n",
      "Words to Live By - Sunburned Hand Of The Man\n",
      "Ribbons - Four Tet\n",
      "Nostalgica - Koelle\n",
      "Sailing the Solar Flares - Dirtwire\n",
      "Jetty - Tycho\n",
      "Friends in Secret - CRi\n",
      "Oi-1 - Biosphere\n",
      "Polynesia - Nora En Pure\n",
      "Bedford Falls - ford.\n",
      "Whir - Affelaye\n",
      "Evasion - CloZee\n",
      "12\n",
      "74afSXinmO8d7hyopaoAbi\n"
     ]
    },
    {
     "ename": "SpotifyException",
     "evalue": "http status: 403, code:-1 - https://api.spotify.com/v1/users/1266075212/playlists/0pI3PXxlFHPa50HSDTMelb/tracks:\n Insufficient client scope",
     "output_type": "error",
     "traceback": [
      "\u001b[0;31m---------------------------------------------------------------------------\u001b[0m",
      "\u001b[0;31mHTTPError\u001b[0m                                 Traceback (most recent call last)",
      "\u001b[0;32m~/Envs/spotify/lib/python3.6/site-packages/spotipy/client.py\u001b[0m in \u001b[0;36m_internal_call\u001b[0;34m(self, method, url, payload, params)\u001b[0m\n\u001b[1;32m    118\u001b[0m         \u001b[0;32mtry\u001b[0m\u001b[0;34m:\u001b[0m\u001b[0;34m\u001b[0m\u001b[0m\n\u001b[0;32m--> 119\u001b[0;31m             \u001b[0mr\u001b[0m\u001b[0;34m.\u001b[0m\u001b[0mraise_for_status\u001b[0m\u001b[0;34m(\u001b[0m\u001b[0;34m)\u001b[0m\u001b[0;34m\u001b[0m\u001b[0m\n\u001b[0m\u001b[1;32m    120\u001b[0m         \u001b[0;32mexcept\u001b[0m\u001b[0;34m:\u001b[0m\u001b[0;34m\u001b[0m\u001b[0m\n",
      "\u001b[0;32m~/Envs/spotify/lib/python3.6/site-packages/requests/models.py\u001b[0m in \u001b[0;36mraise_for_status\u001b[0;34m(self)\u001b[0m\n\u001b[1;32m    939\u001b[0m         \u001b[0;32mif\u001b[0m \u001b[0mhttp_error_msg\u001b[0m\u001b[0;34m:\u001b[0m\u001b[0;34m\u001b[0m\u001b[0m\n\u001b[0;32m--> 940\u001b[0;31m             \u001b[0;32mraise\u001b[0m \u001b[0mHTTPError\u001b[0m\u001b[0;34m(\u001b[0m\u001b[0mhttp_error_msg\u001b[0m\u001b[0;34m,\u001b[0m \u001b[0mresponse\u001b[0m\u001b[0;34m=\u001b[0m\u001b[0mself\u001b[0m\u001b[0;34m)\u001b[0m\u001b[0;34m\u001b[0m\u001b[0m\n\u001b[0m\u001b[1;32m    941\u001b[0m \u001b[0;34m\u001b[0m\u001b[0m\n",
      "\u001b[0;31mHTTPError\u001b[0m: 403 Client Error: Forbidden for url: https://api.spotify.com/v1/users/1266075212/playlists/0pI3PXxlFHPa50HSDTMelb/tracks",
      "\nDuring handling of the above exception, another exception occurred:\n",
      "\u001b[0;31mSpotifyException\u001b[0m                          Traceback (most recent call last)",
      "\u001b[0;32m<ipython-input-7-3be4eb6020e9>\u001b[0m in \u001b[0;36m<module>\u001b[0;34m\u001b[0m\n\u001b[1;32m     40\u001b[0m \u001b[0mi\u001b[0m \u001b[0;34m=\u001b[0m \u001b[0;36m0\u001b[0m\u001b[0;34m\u001b[0m\u001b[0m\n\u001b[1;32m     41\u001b[0m \u001b[0;32mfor\u001b[0m \u001b[0mi\u001b[0m \u001b[0;32min\u001b[0m \u001b[0mrange\u001b[0m\u001b[0;34m(\u001b[0m\u001b[0mlen\u001b[0m\u001b[0;34m(\u001b[0m\u001b[0msongs\u001b[0m\u001b[0;34m)\u001b[0m\u001b[0;34m)\u001b[0m\u001b[0;34m:\u001b[0m\u001b[0;34m\u001b[0m\u001b[0m\n\u001b[0;32m---> 42\u001b[0;31m     \u001b[0msp\u001b[0m\u001b[0;34m.\u001b[0m\u001b[0muser_playlist_add_tracks\u001b[0m\u001b[0;34m(\u001b[0m\u001b[0;34m\"1266075212\"\u001b[0m\u001b[0;34m,\u001b[0m \u001b[0;34m\"0pI3PXxlFHPa50HSDTMelb\"\u001b[0m\u001b[0;34m,\u001b[0m \u001b[0;34m[\u001b[0m\u001b[0msongs\u001b[0m\u001b[0;34m[\u001b[0m\u001b[0mi\u001b[0m\u001b[0;34m]\u001b[0m\u001b[0;34m[\u001b[0m\u001b[0;34m\"track\"\u001b[0m\u001b[0;34m]\u001b[0m\u001b[0;34m[\u001b[0m\u001b[0;34m\"id\"\u001b[0m\u001b[0;34m]\u001b[0m\u001b[0;34m]\u001b[0m\u001b[0;34m)\u001b[0m\u001b[0;34m\u001b[0m\u001b[0m\n\u001b[0m",
      "\u001b[0;32m~/Envs/spotify/lib/python3.6/site-packages/spotipy/client.py\u001b[0m in \u001b[0;36muser_playlist_add_tracks\u001b[0;34m(self, user, playlist_id, tracks, position)\u001b[0m\n\u001b[1;32m    455\u001b[0m         \u001b[0mftracks\u001b[0m \u001b[0;34m=\u001b[0m \u001b[0;34m[\u001b[0m\u001b[0mself\u001b[0m\u001b[0;34m.\u001b[0m\u001b[0m_get_uri\u001b[0m\u001b[0;34m(\u001b[0m\u001b[0;34m'track'\u001b[0m\u001b[0;34m,\u001b[0m \u001b[0mtid\u001b[0m\u001b[0;34m)\u001b[0m \u001b[0;32mfor\u001b[0m \u001b[0mtid\u001b[0m \u001b[0;32min\u001b[0m \u001b[0mtracks\u001b[0m\u001b[0;34m]\u001b[0m\u001b[0;34m\u001b[0m\u001b[0m\n\u001b[1;32m    456\u001b[0m         return self._post(\"users/%s/playlists/%s/tracks\" % (user, plid),\n\u001b[0;32m--> 457\u001b[0;31m                           payload=ftracks, position=position)\n\u001b[0m\u001b[1;32m    458\u001b[0m \u001b[0;34m\u001b[0m\u001b[0m\n\u001b[1;32m    459\u001b[0m     \u001b[0;32mdef\u001b[0m \u001b[0muser_playlist_replace_tracks\u001b[0m\u001b[0;34m(\u001b[0m\u001b[0mself\u001b[0m\u001b[0;34m,\u001b[0m \u001b[0muser\u001b[0m\u001b[0;34m,\u001b[0m \u001b[0mplaylist_id\u001b[0m\u001b[0;34m,\u001b[0m \u001b[0mtracks\u001b[0m\u001b[0;34m)\u001b[0m\u001b[0;34m:\u001b[0m\u001b[0;34m\u001b[0m\u001b[0m\n",
      "\u001b[0;32m~/Envs/spotify/lib/python3.6/site-packages/spotipy/client.py\u001b[0m in \u001b[0;36m_post\u001b[0;34m(self, url, args, payload, **kwargs)\u001b[0m\n\u001b[1;32m    176\u001b[0m         \u001b[0;32mif\u001b[0m \u001b[0margs\u001b[0m\u001b[0;34m:\u001b[0m\u001b[0;34m\u001b[0m\u001b[0m\n\u001b[1;32m    177\u001b[0m             \u001b[0mkwargs\u001b[0m\u001b[0;34m.\u001b[0m\u001b[0mupdate\u001b[0m\u001b[0;34m(\u001b[0m\u001b[0margs\u001b[0m\u001b[0;34m)\u001b[0m\u001b[0;34m\u001b[0m\u001b[0m\n\u001b[0;32m--> 178\u001b[0;31m         \u001b[0;32mreturn\u001b[0m \u001b[0mself\u001b[0m\u001b[0;34m.\u001b[0m\u001b[0m_internal_call\u001b[0m\u001b[0;34m(\u001b[0m\u001b[0;34m'POST'\u001b[0m\u001b[0;34m,\u001b[0m \u001b[0murl\u001b[0m\u001b[0;34m,\u001b[0m \u001b[0mpayload\u001b[0m\u001b[0;34m,\u001b[0m \u001b[0mkwargs\u001b[0m\u001b[0;34m)\u001b[0m\u001b[0;34m\u001b[0m\u001b[0m\n\u001b[0m\u001b[1;32m    179\u001b[0m \u001b[0;34m\u001b[0m\u001b[0m\n\u001b[1;32m    180\u001b[0m     \u001b[0;32mdef\u001b[0m \u001b[0m_delete\u001b[0m\u001b[0;34m(\u001b[0m\u001b[0mself\u001b[0m\u001b[0;34m,\u001b[0m \u001b[0murl\u001b[0m\u001b[0;34m,\u001b[0m \u001b[0margs\u001b[0m\u001b[0;34m=\u001b[0m\u001b[0;32mNone\u001b[0m\u001b[0;34m,\u001b[0m \u001b[0mpayload\u001b[0m\u001b[0;34m=\u001b[0m\u001b[0;32mNone\u001b[0m\u001b[0;34m,\u001b[0m \u001b[0;34m**\u001b[0m\u001b[0mkwargs\u001b[0m\u001b[0;34m)\u001b[0m\u001b[0;34m:\u001b[0m\u001b[0;34m\u001b[0m\u001b[0m\n",
      "\u001b[0;32m~/Envs/spotify/lib/python3.6/site-packages/spotipy/client.py\u001b[0m in \u001b[0;36m_internal_call\u001b[0;34m(self, method, url, payload, params)\u001b[0m\n\u001b[1;32m    122\u001b[0m                 raise SpotifyException(r.status_code,\n\u001b[1;32m    123\u001b[0m                     \u001b[0;34m-\u001b[0m\u001b[0;36m1\u001b[0m\u001b[0;34m,\u001b[0m \u001b[0;34m'%s:\\n %s'\u001b[0m \u001b[0;34m%\u001b[0m \u001b[0;34m(\u001b[0m\u001b[0mr\u001b[0m\u001b[0;34m.\u001b[0m\u001b[0murl\u001b[0m\u001b[0;34m,\u001b[0m \u001b[0mr\u001b[0m\u001b[0;34m.\u001b[0m\u001b[0mjson\u001b[0m\u001b[0;34m(\u001b[0m\u001b[0;34m)\u001b[0m\u001b[0;34m[\u001b[0m\u001b[0;34m'error'\u001b[0m\u001b[0;34m]\u001b[0m\u001b[0;34m[\u001b[0m\u001b[0;34m'message'\u001b[0m\u001b[0;34m]\u001b[0m\u001b[0;34m)\u001b[0m\u001b[0;34m,\u001b[0m\u001b[0;34m\u001b[0m\u001b[0m\n\u001b[0;32m--> 124\u001b[0;31m                     headers=r.headers)\n\u001b[0m\u001b[1;32m    125\u001b[0m             \u001b[0;32melse\u001b[0m\u001b[0;34m:\u001b[0m\u001b[0;34m\u001b[0m\u001b[0m\n\u001b[1;32m    126\u001b[0m                 raise SpotifyException(r.status_code,\n",
      "\u001b[0;31mSpotifyException\u001b[0m: http status: 403, code:-1 - https://api.spotify.com/v1/users/1266075212/playlists/0pI3PXxlFHPa50HSDTMelb/tracks:\n Insufficient client scope"
     ]
    }
   ],
   "source": [
    "#\"user-read-private user-read-email user-read-playback-state user-read-currently-playing user-library-read\"\n",
    "#export SPOTIPY_CLIENT_ID='c27d762046d144e48d9d7d929e9c2206'\n",
    "#export SPOTIPY_CLIENT_SECRET='fd9583d5356249e1a32e262640b989dc'\n",
    "#export SPOTIPY_REDIRECT_URI='http://localhost/8888'\n",
    "\n",
    "import spotipy\n",
    "from spotipy.oauth2 import SpotifyClientCredentials\n",
    "import spotipy.util as util\n",
    "\n",
    "\n",
    "cid =\"c27d762046d144e48d9d7d929e9c2206\" \n",
    "secret = \"fd9583d5356249e1a32e262640b989dc\"\n",
    "username = \"\"\n",
    "client_credentials_manager = SpotifyClientCredentials(client_id=cid, client_secret=secret) \n",
    "sp = spotipy.Spotify(client_credentials_manager=client_credentials_manager)\n",
    "scope = 'user-library-read playlist-read-private'\n",
    "token = util.prompt_for_user_token(username, scope)\n",
    "\n",
    "    \n",
    "if token:\n",
    "    sp = spotipy.Spotify(auth=token)\n",
    "    results = sp.current_user_saved_tracks()\n",
    "    for item in results['items']:\n",
    "        track = item['track']\n",
    "        print(track['name'] + ' - ' + track['artists'][0]['name'])\n",
    "else:\n",
    "    print(\"Can't get token for\", username)\n",
    "\n",
    "    \n",
    "sourcePlaylist = sp.user_playlist(\"1266075212\", \"5GRTnW4nCpeckVmQRqV2tj\")\n",
    "tracks = sourcePlaylist[\"tracks\"]\n",
    "songs = tracks[\"items\"] \n",
    "while tracks['next']:\n",
    "    tracks = sp.next(tracks)\n",
    "    for item in tracks[\"items\"]:\n",
    "        songs.append(item)\n",
    "ids = [] \n",
    "print(len(songs))\n",
    "print(songs[0]['track']['id'])\n",
    "i = 0\n",
    "for i in range(len(songs)):\n",
    "    sp.user_playlist_add_tracks(\"1266075212\", \"0pI3PXxlFHPa50HSDTMelb\", [songs[i][\"track\"][\"id\"]])\n"
   ]
  },
  {
   "cell_type": "code",
   "execution_count": null,
   "metadata": {},
   "outputs": [],
   "source": []
  },
  {
   "cell_type": "code",
   "execution_count": null,
   "metadata": {},
   "outputs": [],
   "source": []
  },
  {
   "cell_type": "code",
   "execution_count": null,
   "metadata": {},
   "outputs": [],
   "source": []
  }
 ],
 "metadata": {
  "kernelspec": {
   "display_name": "Python 3",
   "language": "python",
   "name": "python3"
  },
  "language_info": {
   "codemirror_mode": {
    "name": "ipython",
    "version": 3
   },
   "file_extension": ".py",
   "mimetype": "text/x-python",
   "name": "python",
   "nbconvert_exporter": "python",
   "pygments_lexer": "ipython3",
   "version": "3.6.4"
  }
 },
 "nbformat": 4,
 "nbformat_minor": 2
}
