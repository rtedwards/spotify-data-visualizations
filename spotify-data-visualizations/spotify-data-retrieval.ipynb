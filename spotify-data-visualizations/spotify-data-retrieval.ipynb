{
 "cells": [
  {
   "cell_type": "markdown",
   "metadata": {},
   "source": [
    "# Data Collection Using Spotify Web API\n",
    "\n",
    "## Purpose of Notebook\n",
    "The purpose of this notebook is to show how to collect and store audio features data for tracks from the [official Spotify Web API](https://developer.spotify.com/documentation/web-api/) for futher exploratory data analysis and machine learning.  \n",
    "\n",
    "## Related Notebooks\n",
    "\n",
    "1. **[spotify-data-retrieval](https://github.com/rtedwards/spotify-data-visualizations/blob/master/spotify-data-visualizations/spotify-data-retrieval.ipynb)** walks through collecting liked tracks using Spotipy as a Python wrapper for the Spotify API and attaching audio features to each track and storing in a dataframe.\n",
    "2. [spotify-data-exploration](https://github.com/rtedwards/spotify-data-visualizations/blob/master/spotify-data-visualizations/spotify-data-exploration.ipynb) is an exploratory data analysis of my liked tracks\n",
    "3. [spotify-data-clustering](https://github.com/rtedwards/spotify-data-visualizations/blob/master/spotify-data-visualizations/spotify-data-clustering.ipynb) attempts to finds genres in my liked tracks using K-Means clustering from \n",
    "\n",
    "## Spotify Web API\n",
    "Spotify has a number of [API endpoints](https://developer.spotify.com/documentation/web-api/reference-beta/) available to access the Spoitfy data.  In this notebook, I use the following endpoints:\n",
    "\n",
    "+ [search endpoint](https://developer.spotify.com/documentation/web-api/reference/search/search/) to get the track IDs\n",
    "+ [audio features endpoint](https://developer.spotify.com/documentation/web-api/reference/tracks/get-several-audio-features/) to get the corresponding audio features."
   ]
  },
  {
   "cell_type": "markdown",
   "metadata": {},
   "source": [
    "# 1. Setup\n",
    "The following code uses `spotipy` from the [Spotify](https://spotipy.readthedocs.io/en/latest/) library.  Spotipy is a python library for accessing the Spotify web API.  "
   ]
  },
  {
   "cell_type": "code",
   "execution_count": 25,
   "metadata": {},
   "outputs": [],
   "source": [
    "'''\n",
    "user-read-private \\\n",
    "user-read-email \\\n",
    "user-read-recently-played \\\n",
    "user-read-playback-state \\\n",
    "user-read-currently-playing \\\n",
    "user-library-read \\\n",
    "playlist-modify-public \\\n",
    "playlist-read-private \\\n",
    "user-follow-read \\\n",
    "user-top-read streaming\n",
    "'''\n",
    "\n",
    "import os  # for accessing environment variables\n",
    "import time  # for execution times\n",
    "import spotipy  # python library for Spotify API\n",
    "from spotipy.oauth2 import SpotifyClientCredentials\n",
    "import spotipy.util as util\n",
    "import seaborn as sns\n",
    "import pandas as pd"
   ]
  },
  {
   "cell_type": "markdown",
   "metadata": {},
   "source": [
    "# 2. Data Collection\n",
    "\n",
    "Data collection is done in 2 parts: first the track IDs and then the audio features for each track ID. "
   ]
  },
  {
   "cell_type": "code",
   "execution_count": 26,
   "metadata": {},
   "outputs": [],
   "source": [
    "# Retreive client_id and client_secret from environment variables\n",
    "client_id = os.getenv('SPOTIFY_CLIENT_ID')\n",
    "client_secret = os.getenv('SPOTIFY_CLIENT_SECRET')\n",
    "redirect_uri = \"https://localhost/8888\"\n",
    "username = \"\"\n",
    "scope = 'user-library-read \\\n",
    "        playlist-read-private' \n",
    "\n",
    "# Setting Spotify Client Credentials\n",
    "client_credentials_manager = SpotifyClientCredentials(client_id=client_id, client_secret=client_secret)\n",
    "sp = spotipy.Spotify(client_credentials_manager=client_credentials_manager)\n",
    "\n",
    "# Retrieving API token\n",
    "token = util.prompt_for_user_token(username, scope, client_id, client_secret, redirect_uri)\n"
   ]
  },
  {
   "cell_type": "markdown",
   "metadata": {},
   "source": [
    "## I. Retrieving Saved Tracks"
   ]
  },
  {
   "cell_type": "code",
   "execution_count": 27,
   "metadata": {},
   "outputs": [
    {
     "name": "stdout",
     "output_type": "stream",
     "text": [
      "Time to run this code (in seconds): 18.95026397705078\n"
     ]
    }
   ],
   "source": [
    "if token:\n",
    "    # timeit library to measure the time needed to run this code\n",
    "    start = time.time()\n",
    "    \n",
    "    # create empty lists where the results are going to be stored\n",
    "    artist_name = []\n",
    "    track_name = []\n",
    "    popularity = []\n",
    "    track_id = []\n",
    "    num_tracks = 3500\n",
    "    sp = spotipy.Spotify(auth=token)\n",
    "    \n",
    "    for i in range(0,num_tracks,50):\n",
    "        track_results = sp.current_user_saved_tracks(limit=50,offset=i)\n",
    "        for item in track_results['items']:\n",
    "            track = item['track']\n",
    "            artist_name.append(track['artists'][0]['name'])\n",
    "            track_name.append(track['name'])\n",
    "            track_id.append(track['id'])\n",
    "            popularity.append(track['popularity'])\n",
    "        \n",
    "    stop = time.time()\n",
    "    print ('Time to run this code (in seconds):', stop - start)\n",
    "    \n",
    "else:\n",
    "    print(\"Can't get token for\", username)\n",
    "    "
   ]
  },
  {
   "cell_type": "markdown",
   "metadata": {},
   "source": [
    "Checking `track_id` list"
   ]
  },
  {
   "cell_type": "code",
   "execution_count": 28,
   "metadata": {},
   "outputs": [
    {
     "name": "stdout",
     "output_type": "stream",
     "text": [
      "number of elements in track_id list: 3234\n"
     ]
    }
   ],
   "source": [
    "print('number of elements in track_id list:', len(track_id))"
   ]
  },
  {
   "cell_type": "markdown",
   "metadata": {},
   "source": [
    "Loading data into a dataframe"
   ]
  },
  {
   "cell_type": "code",
   "execution_count": 29,
   "metadata": {},
   "outputs": [
    {
     "name": "stdout",
     "output_type": "stream",
     "text": [
      "(3234, 4)\n"
     ]
    },
    {
     "data": {
      "text/html": [
       "<div>\n",
       "<style scoped>\n",
       "    .dataframe tbody tr th:only-of-type {\n",
       "        vertical-align: middle;\n",
       "    }\n",
       "\n",
       "    .dataframe tbody tr th {\n",
       "        vertical-align: top;\n",
       "    }\n",
       "\n",
       "    .dataframe thead th {\n",
       "        text-align: right;\n",
       "    }\n",
       "</style>\n",
       "<table border=\"1\" class=\"dataframe\">\n",
       "  <thead>\n",
       "    <tr style=\"text-align: right;\">\n",
       "      <th></th>\n",
       "      <th>artist_name</th>\n",
       "      <th>track_name</th>\n",
       "      <th>track_id</th>\n",
       "      <th>popularity</th>\n",
       "    </tr>\n",
       "  </thead>\n",
       "  <tbody>\n",
       "    <tr>\n",
       "      <th>0</th>\n",
       "      <td>Metallica</td>\n",
       "      <td>Enter Sandman - Live with the SFSO</td>\n",
       "      <td>0T3Pft6gyhtBCrGOsSrvlE</td>\n",
       "      <td>36</td>\n",
       "    </tr>\n",
       "    <tr>\n",
       "      <th>1</th>\n",
       "      <td>Metallica</td>\n",
       "      <td>Battery - Live with the SFSO</td>\n",
       "      <td>2T9a3ToWrj8ijGUzCtlRNz</td>\n",
       "      <td>34</td>\n",
       "    </tr>\n",
       "    <tr>\n",
       "      <th>2</th>\n",
       "      <td>Metallica</td>\n",
       "      <td>One - Live with the SFSO</td>\n",
       "      <td>1L3xLJzYMRCN6ydha1XF42</td>\n",
       "      <td>37</td>\n",
       "    </tr>\n",
       "    <tr>\n",
       "      <th>3</th>\n",
       "      <td>Metallica</td>\n",
       "      <td>Master of Puppets (Remastered)</td>\n",
       "      <td>54bm2e3tk8cliUz3VSdCPZ</td>\n",
       "      <td>66</td>\n",
       "    </tr>\n",
       "    <tr>\n",
       "      <th>4</th>\n",
       "      <td>Metallica</td>\n",
       "      <td>Sad But True - Live with the SFSO</td>\n",
       "      <td>5snyl56jcL8JMOqR02HYCA</td>\n",
       "      <td>35</td>\n",
       "    </tr>\n",
       "  </tbody>\n",
       "</table>\n",
       "</div>"
      ],
      "text/plain": [
       "  artist_name                          track_name                track_id  \\\n",
       "0   Metallica  Enter Sandman - Live with the SFSO  0T3Pft6gyhtBCrGOsSrvlE   \n",
       "1   Metallica        Battery - Live with the SFSO  2T9a3ToWrj8ijGUzCtlRNz   \n",
       "2   Metallica            One - Live with the SFSO  1L3xLJzYMRCN6ydha1XF42   \n",
       "3   Metallica      Master of Puppets (Remastered)  54bm2e3tk8cliUz3VSdCPZ   \n",
       "4   Metallica   Sad But True - Live with the SFSO  5snyl56jcL8JMOqR02HYCA   \n",
       "\n",
       "   popularity  \n",
       "0          36  \n",
       "1          34  \n",
       "2          37  \n",
       "3          66  \n",
       "4          35  "
      ]
     },
     "execution_count": 29,
     "metadata": {},
     "output_type": "execute_result"
    }
   ],
   "source": [
    "df_tracks = pd.DataFrame({'artist_name':artist_name, \n",
    "                          'track_name':track_name, \n",
    "                          'track_id':track_id, \n",
    "                          'popularity':popularity})\n",
    "print(df_tracks.shape)\n",
    "df_tracks.head()"
   ]
  },
  {
   "cell_type": "markdown",
   "metadata": {},
   "source": [
    "Let's view some information about the dataframe:"
   ]
  },
  {
   "cell_type": "code",
   "execution_count": 30,
   "metadata": {},
   "outputs": [
    {
     "name": "stdout",
     "output_type": "stream",
     "text": [
      "<class 'pandas.core.frame.DataFrame'>\n",
      "RangeIndex: 3234 entries, 0 to 3233\n",
      "Data columns (total 4 columns):\n",
      "artist_name    3234 non-null object\n",
      "track_name     3234 non-null object\n",
      "track_id       3234 non-null object\n",
      "popularity     3234 non-null int64\n",
      "dtypes: int64(1), object(3)\n",
      "memory usage: 101.1+ KB\n"
     ]
    }
   ],
   "source": [
    "df_tracks.info()"
   ]
  },
  {
   "cell_type": "markdown",
   "metadata": {},
   "source": [
    "## Checking Our Data\n",
    "There can be duplicates of the same track under different IDs.  This is caused by the track being released in single albums and full albums. "
   ]
  },
  {
   "cell_type": "code",
   "execution_count": 31,
   "metadata": {},
   "outputs": [
    {
     "data": {
      "text/plain": [
       "artist_name    183\n",
       "track_name     183\n",
       "track_id       183\n",
       "popularity     183\n",
       "dtype: int64"
      ]
     },
     "execution_count": 31,
     "metadata": {},
     "output_type": "execute_result"
    }
   ],
   "source": [
    "df_tracks[df_tracks.duplicated(subset=['artist_name','track_name'],keep=False)].count()"
   ]
  },
  {
   "cell_type": "code",
   "execution_count": 32,
   "metadata": {},
   "outputs": [
    {
     "name": "stdout",
     "output_type": "stream",
     "text": [
      "Number of duplicate tracks:  90\n"
     ]
    }
   ],
   "source": [
    "# group the entries by artist_name and track_name and check for duplicates\n",
    "\n",
    "duplicates = df_tracks.groupby(['artist_name','track_name'], as_index=True).size()\n",
    "print(\"Number of duplicate tracks: \", duplicates[duplicates > 1].count() )\n"
   ]
  },
  {
   "cell_type": "markdown",
   "metadata": {},
   "source": [
    "Dropping duplicate tracks:"
   ]
  },
  {
   "cell_type": "code",
   "execution_count": 33,
   "metadata": {},
   "outputs": [],
   "source": [
    "df_tracks.drop_duplicates(subset=['artist_name', 'track_name'], inplace=True)"
   ]
  },
  {
   "cell_type": "markdown",
   "metadata": {},
   "source": [
    "Check again for duplicates:"
   ]
  },
  {
   "cell_type": "code",
   "execution_count": 34,
   "metadata": {},
   "outputs": [
    {
     "name": "stdout",
     "output_type": "stream",
     "text": [
      "Number of duplicate tracks:  0\n"
     ]
    }
   ],
   "source": [
    "# group the entries by artist_name and track_name and check for duplicates\n",
    "\n",
    "duplicates = df_tracks.groupby(['artist_name','track_name'], as_index=True).size()\n",
    "print(\"Number of duplicate tracks: \", duplicates[duplicates > 1].count() )\n"
   ]
  },
  {
   "cell_type": "markdown",
   "metadata": {},
   "source": [
    "Now to check the shape of our data:"
   ]
  },
  {
   "cell_type": "code",
   "execution_count": 35,
   "metadata": {},
   "outputs": [
    {
     "data": {
      "text/plain": [
       "(3141, 4)"
      ]
     },
     "execution_count": 35,
     "metadata": {},
     "output_type": "execute_result"
    }
   ],
   "source": [
    "df_tracks.shape"
   ]
  },
  {
   "cell_type": "markdown",
   "metadata": {},
   "source": [
    "# II. Retrieve Audio Features for each Track\n",
    "Using the [audio features endpoint](https://developer.spotify.com/documentation/web-api/reference/tracks/get-several-audio-features/) we can retrieve the audio features data for the tracks we have collected.\n",
    "\n",
    "There is a 100 track ID limit per query for this endpoint.  We can use anested for loop to pull track IDs in batches of size 100. "
   ]
  },
  {
   "cell_type": "code",
   "execution_count": 36,
   "metadata": {},
   "outputs": [
    {
     "name": "stdout",
     "output_type": "stream",
     "text": [
      "Number of tracks where no audio features were available: 0\n",
      "Code runtime (sec): 4.689333200454712\n"
     ]
    }
   ],
   "source": [
    "# Measuring time\n",
    "start = time.time()\n",
    "\n",
    "rows = []\n",
    "batchsize = 100\n",
    "None_counter = 0\n",
    "\n",
    "for i in range(0, len(df_tracks['track_id']), batchsize): \n",
    "    batch = df_tracks['track_id'][i:i+batchsize]\n",
    "    feature_results = sp.audio_features(batch)\n",
    "    \n",
    "    for i, t in enumerate(feature_results):\n",
    "        if t == None:\n",
    "            None_counter = None_counter + 1\n",
    "        else:\n",
    "            rows.append(t)\n",
    "            \n",
    "print('Number of tracks where no audio features were available:', None_counter)\n",
    "\n",
    "stop = time.time()\n",
    "print ('Code runtime (sec):', stop - start)"
   ]
  },
  {
   "cell_type": "code",
   "execution_count": 37,
   "metadata": {},
   "outputs": [
    {
     "name": "stdout",
     "output_type": "stream",
     "text": [
      "Number of elements in audio_features list: 3141\n"
     ]
    }
   ],
   "source": [
    "print('Number of elements in audio_features list:', len(rows))"
   ]
  },
  {
   "cell_type": "code",
   "execution_count": 38,
   "metadata": {},
   "outputs": [
    {
     "name": "stdout",
     "output_type": "stream",
     "text": [
      "Shape of dataset: (3141, 18)\n"
     ]
    },
    {
     "data": {
      "text/html": [
       "<div>\n",
       "<style scoped>\n",
       "    .dataframe tbody tr th:only-of-type {\n",
       "        vertical-align: middle;\n",
       "    }\n",
       "\n",
       "    .dataframe tbody tr th {\n",
       "        vertical-align: top;\n",
       "    }\n",
       "\n",
       "    .dataframe thead th {\n",
       "        text-align: right;\n",
       "    }\n",
       "</style>\n",
       "<table border=\"1\" class=\"dataframe\">\n",
       "  <thead>\n",
       "    <tr style=\"text-align: right;\">\n",
       "      <th></th>\n",
       "      <th>acousticness</th>\n",
       "      <th>analysis_url</th>\n",
       "      <th>danceability</th>\n",
       "      <th>duration_ms</th>\n",
       "      <th>energy</th>\n",
       "      <th>id</th>\n",
       "      <th>instrumentalness</th>\n",
       "      <th>key</th>\n",
       "      <th>liveness</th>\n",
       "      <th>loudness</th>\n",
       "      <th>mode</th>\n",
       "      <th>speechiness</th>\n",
       "      <th>tempo</th>\n",
       "      <th>time_signature</th>\n",
       "      <th>track_href</th>\n",
       "      <th>type</th>\n",
       "      <th>uri</th>\n",
       "      <th>valence</th>\n",
       "    </tr>\n",
       "  </thead>\n",
       "  <tbody>\n",
       "    <tr>\n",
       "      <th>0</th>\n",
       "      <td>0.000144</td>\n",
       "      <td>https://api.spotify.com/v1/audio-analysis/0T3P...</td>\n",
       "      <td>0.278</td>\n",
       "      <td>459133</td>\n",
       "      <td>0.970</td>\n",
       "      <td>0T3Pft6gyhtBCrGOsSrvlE</td>\n",
       "      <td>0.04810</td>\n",
       "      <td>10</td>\n",
       "      <td>0.966</td>\n",
       "      <td>-4.537</td>\n",
       "      <td>0</td>\n",
       "      <td>0.1450</td>\n",
       "      <td>131.288</td>\n",
       "      <td>4</td>\n",
       "      <td>https://api.spotify.com/v1/tracks/0T3Pft6gyhtB...</td>\n",
       "      <td>audio_features</td>\n",
       "      <td>spotify:track:0T3Pft6gyhtBCrGOsSrvlE</td>\n",
       "      <td>0.152</td>\n",
       "    </tr>\n",
       "    <tr>\n",
       "      <th>1</th>\n",
       "      <td>0.000109</td>\n",
       "      <td>https://api.spotify.com/v1/audio-analysis/2T9a...</td>\n",
       "      <td>0.239</td>\n",
       "      <td>444667</td>\n",
       "      <td>0.976</td>\n",
       "      <td>2T9a3ToWrj8ijGUzCtlRNz</td>\n",
       "      <td>0.36200</td>\n",
       "      <td>11</td>\n",
       "      <td>0.954</td>\n",
       "      <td>-5.290</td>\n",
       "      <td>1</td>\n",
       "      <td>0.3440</td>\n",
       "      <td>96.485</td>\n",
       "      <td>4</td>\n",
       "      <td>https://api.spotify.com/v1/tracks/2T9a3ToWrj8i...</td>\n",
       "      <td>audio_features</td>\n",
       "      <td>spotify:track:2T9a3ToWrj8ijGUzCtlRNz</td>\n",
       "      <td>0.125</td>\n",
       "    </tr>\n",
       "    <tr>\n",
       "      <th>2</th>\n",
       "      <td>0.000007</td>\n",
       "      <td>https://api.spotify.com/v1/audio-analysis/1L3x...</td>\n",
       "      <td>0.292</td>\n",
       "      <td>473067</td>\n",
       "      <td>0.949</td>\n",
       "      <td>1L3xLJzYMRCN6ydha1XF42</td>\n",
       "      <td>0.27900</td>\n",
       "      <td>10</td>\n",
       "      <td>0.992</td>\n",
       "      <td>-5.735</td>\n",
       "      <td>0</td>\n",
       "      <td>0.1340</td>\n",
       "      <td>124.283</td>\n",
       "      <td>4</td>\n",
       "      <td>https://api.spotify.com/v1/tracks/1L3xLJzYMRCN...</td>\n",
       "      <td>audio_features</td>\n",
       "      <td>spotify:track:1L3xLJzYMRCN6ydha1XF42</td>\n",
       "      <td>0.238</td>\n",
       "    </tr>\n",
       "    <tr>\n",
       "      <th>3</th>\n",
       "      <td>0.000670</td>\n",
       "      <td>https://api.spotify.com/v1/audio-analysis/54bm...</td>\n",
       "      <td>0.539</td>\n",
       "      <td>515387</td>\n",
       "      <td>0.828</td>\n",
       "      <td>54bm2e3tk8cliUz3VSdCPZ</td>\n",
       "      <td>0.42100</td>\n",
       "      <td>4</td>\n",
       "      <td>0.154</td>\n",
       "      <td>-9.108</td>\n",
       "      <td>0</td>\n",
       "      <td>0.0350</td>\n",
       "      <td>105.250</td>\n",
       "      <td>4</td>\n",
       "      <td>https://api.spotify.com/v1/tracks/54bm2e3tk8cl...</td>\n",
       "      <td>audio_features</td>\n",
       "      <td>spotify:track:54bm2e3tk8cliUz3VSdCPZ</td>\n",
       "      <td>0.562</td>\n",
       "    </tr>\n",
       "    <tr>\n",
       "      <th>4</th>\n",
       "      <td>0.000016</td>\n",
       "      <td>https://api.spotify.com/v1/audio-analysis/5sny...</td>\n",
       "      <td>0.294</td>\n",
       "      <td>346267</td>\n",
       "      <td>0.977</td>\n",
       "      <td>5snyl56jcL8JMOqR02HYCA</td>\n",
       "      <td>0.00209</td>\n",
       "      <td>7</td>\n",
       "      <td>0.928</td>\n",
       "      <td>-3.732</td>\n",
       "      <td>1</td>\n",
       "      <td>0.0731</td>\n",
       "      <td>92.375</td>\n",
       "      <td>4</td>\n",
       "      <td>https://api.spotify.com/v1/tracks/5snyl56jcL8J...</td>\n",
       "      <td>audio_features</td>\n",
       "      <td>spotify:track:5snyl56jcL8JMOqR02HYCA</td>\n",
       "      <td>0.243</td>\n",
       "    </tr>\n",
       "  </tbody>\n",
       "</table>\n",
       "</div>"
      ],
      "text/plain": [
       "   acousticness                                       analysis_url  \\\n",
       "0      0.000144  https://api.spotify.com/v1/audio-analysis/0T3P...   \n",
       "1      0.000109  https://api.spotify.com/v1/audio-analysis/2T9a...   \n",
       "2      0.000007  https://api.spotify.com/v1/audio-analysis/1L3x...   \n",
       "3      0.000670  https://api.spotify.com/v1/audio-analysis/54bm...   \n",
       "4      0.000016  https://api.spotify.com/v1/audio-analysis/5sny...   \n",
       "\n",
       "   danceability  duration_ms  energy                      id  \\\n",
       "0         0.278       459133   0.970  0T3Pft6gyhtBCrGOsSrvlE   \n",
       "1         0.239       444667   0.976  2T9a3ToWrj8ijGUzCtlRNz   \n",
       "2         0.292       473067   0.949  1L3xLJzYMRCN6ydha1XF42   \n",
       "3         0.539       515387   0.828  54bm2e3tk8cliUz3VSdCPZ   \n",
       "4         0.294       346267   0.977  5snyl56jcL8JMOqR02HYCA   \n",
       "\n",
       "   instrumentalness  key  liveness  loudness  mode  speechiness    tempo  \\\n",
       "0           0.04810   10     0.966    -4.537     0       0.1450  131.288   \n",
       "1           0.36200   11     0.954    -5.290     1       0.3440   96.485   \n",
       "2           0.27900   10     0.992    -5.735     0       0.1340  124.283   \n",
       "3           0.42100    4     0.154    -9.108     0       0.0350  105.250   \n",
       "4           0.00209    7     0.928    -3.732     1       0.0731   92.375   \n",
       "\n",
       "   time_signature                                         track_href  \\\n",
       "0               4  https://api.spotify.com/v1/tracks/0T3Pft6gyhtB...   \n",
       "1               4  https://api.spotify.com/v1/tracks/2T9a3ToWrj8i...   \n",
       "2               4  https://api.spotify.com/v1/tracks/1L3xLJzYMRCN...   \n",
       "3               4  https://api.spotify.com/v1/tracks/54bm2e3tk8cl...   \n",
       "4               4  https://api.spotify.com/v1/tracks/5snyl56jcL8J...   \n",
       "\n",
       "             type                                   uri  valence  \n",
       "0  audio_features  spotify:track:0T3Pft6gyhtBCrGOsSrvlE    0.152  \n",
       "1  audio_features  spotify:track:2T9a3ToWrj8ijGUzCtlRNz    0.125  \n",
       "2  audio_features  spotify:track:1L3xLJzYMRCN6ydha1XF42    0.238  \n",
       "3  audio_features  spotify:track:54bm2e3tk8cliUz3VSdCPZ    0.562  \n",
       "4  audio_features  spotify:track:5snyl56jcL8JMOqR02HYCA    0.243  "
      ]
     },
     "execution_count": 38,
     "metadata": {},
     "output_type": "execute_result"
    }
   ],
   "source": [
    "df_audio_features = pd.DataFrame.from_dict(rows, orient='columns')\n",
    "print(\"Shape of dataset:\", df_audio_features.shape)\n",
    "df_audio_features.head()"
   ]
  },
  {
   "cell_type": "markdown",
   "metadata": {},
   "source": [
    "Renaming `id` to `track_id` to match the `df_tracks` dataframe:"
   ]
  },
  {
   "cell_type": "code",
   "execution_count": 39,
   "metadata": {},
   "outputs": [
    {
     "data": {
      "text/plain": [
       "(3141, 18)"
      ]
     },
     "execution_count": 39,
     "metadata": {},
     "output_type": "execute_result"
    }
   ],
   "source": [
    "df_audio_features.rename(columns = {'id': 'track_id'}, inplace=True)\n",
    "df_audio_features.shape # checking our progress"
   ]
  },
  {
   "cell_type": "markdown",
   "metadata": {},
   "source": [
    "To combine the two dataframes we do an inner merge to only keep track IDs that are in both datasets."
   ]
  },
  {
   "cell_type": "code",
   "execution_count": 40,
   "metadata": {},
   "outputs": [
    {
     "name": "stdout",
     "output_type": "stream",
     "text": [
      "Shape of dataset: (3141, 21)\n"
     ]
    },
    {
     "data": {
      "text/html": [
       "<div>\n",
       "<style scoped>\n",
       "    .dataframe tbody tr th:only-of-type {\n",
       "        vertical-align: middle;\n",
       "    }\n",
       "\n",
       "    .dataframe tbody tr th {\n",
       "        vertical-align: top;\n",
       "    }\n",
       "\n",
       "    .dataframe thead th {\n",
       "        text-align: right;\n",
       "    }\n",
       "</style>\n",
       "<table border=\"1\" class=\"dataframe\">\n",
       "  <thead>\n",
       "    <tr style=\"text-align: right;\">\n",
       "      <th></th>\n",
       "      <th>artist_name</th>\n",
       "      <th>track_name</th>\n",
       "      <th>track_id</th>\n",
       "      <th>popularity</th>\n",
       "      <th>acousticness</th>\n",
       "      <th>analysis_url</th>\n",
       "      <th>danceability</th>\n",
       "      <th>duration_ms</th>\n",
       "      <th>energy</th>\n",
       "      <th>instrumentalness</th>\n",
       "      <th>...</th>\n",
       "      <th>liveness</th>\n",
       "      <th>loudness</th>\n",
       "      <th>mode</th>\n",
       "      <th>speechiness</th>\n",
       "      <th>tempo</th>\n",
       "      <th>time_signature</th>\n",
       "      <th>track_href</th>\n",
       "      <th>type</th>\n",
       "      <th>uri</th>\n",
       "      <th>valence</th>\n",
       "    </tr>\n",
       "  </thead>\n",
       "  <tbody>\n",
       "    <tr>\n",
       "      <th>0</th>\n",
       "      <td>Metallica</td>\n",
       "      <td>Enter Sandman - Live with the SFSO</td>\n",
       "      <td>0T3Pft6gyhtBCrGOsSrvlE</td>\n",
       "      <td>36</td>\n",
       "      <td>0.000144</td>\n",
       "      <td>https://api.spotify.com/v1/audio-analysis/0T3P...</td>\n",
       "      <td>0.278</td>\n",
       "      <td>459133</td>\n",
       "      <td>0.970</td>\n",
       "      <td>0.04810</td>\n",
       "      <td>...</td>\n",
       "      <td>0.966</td>\n",
       "      <td>-4.537</td>\n",
       "      <td>0</td>\n",
       "      <td>0.1450</td>\n",
       "      <td>131.288</td>\n",
       "      <td>4</td>\n",
       "      <td>https://api.spotify.com/v1/tracks/0T3Pft6gyhtB...</td>\n",
       "      <td>audio_features</td>\n",
       "      <td>spotify:track:0T3Pft6gyhtBCrGOsSrvlE</td>\n",
       "      <td>0.152</td>\n",
       "    </tr>\n",
       "    <tr>\n",
       "      <th>1</th>\n",
       "      <td>Metallica</td>\n",
       "      <td>Battery - Live with the SFSO</td>\n",
       "      <td>2T9a3ToWrj8ijGUzCtlRNz</td>\n",
       "      <td>34</td>\n",
       "      <td>0.000109</td>\n",
       "      <td>https://api.spotify.com/v1/audio-analysis/2T9a...</td>\n",
       "      <td>0.239</td>\n",
       "      <td>444667</td>\n",
       "      <td>0.976</td>\n",
       "      <td>0.36200</td>\n",
       "      <td>...</td>\n",
       "      <td>0.954</td>\n",
       "      <td>-5.290</td>\n",
       "      <td>1</td>\n",
       "      <td>0.3440</td>\n",
       "      <td>96.485</td>\n",
       "      <td>4</td>\n",
       "      <td>https://api.spotify.com/v1/tracks/2T9a3ToWrj8i...</td>\n",
       "      <td>audio_features</td>\n",
       "      <td>spotify:track:2T9a3ToWrj8ijGUzCtlRNz</td>\n",
       "      <td>0.125</td>\n",
       "    </tr>\n",
       "    <tr>\n",
       "      <th>2</th>\n",
       "      <td>Metallica</td>\n",
       "      <td>One - Live with the SFSO</td>\n",
       "      <td>1L3xLJzYMRCN6ydha1XF42</td>\n",
       "      <td>37</td>\n",
       "      <td>0.000007</td>\n",
       "      <td>https://api.spotify.com/v1/audio-analysis/1L3x...</td>\n",
       "      <td>0.292</td>\n",
       "      <td>473067</td>\n",
       "      <td>0.949</td>\n",
       "      <td>0.27900</td>\n",
       "      <td>...</td>\n",
       "      <td>0.992</td>\n",
       "      <td>-5.735</td>\n",
       "      <td>0</td>\n",
       "      <td>0.1340</td>\n",
       "      <td>124.283</td>\n",
       "      <td>4</td>\n",
       "      <td>https://api.spotify.com/v1/tracks/1L3xLJzYMRCN...</td>\n",
       "      <td>audio_features</td>\n",
       "      <td>spotify:track:1L3xLJzYMRCN6ydha1XF42</td>\n",
       "      <td>0.238</td>\n",
       "    </tr>\n",
       "    <tr>\n",
       "      <th>3</th>\n",
       "      <td>Metallica</td>\n",
       "      <td>Master of Puppets (Remastered)</td>\n",
       "      <td>54bm2e3tk8cliUz3VSdCPZ</td>\n",
       "      <td>66</td>\n",
       "      <td>0.000670</td>\n",
       "      <td>https://api.spotify.com/v1/audio-analysis/54bm...</td>\n",
       "      <td>0.539</td>\n",
       "      <td>515387</td>\n",
       "      <td>0.828</td>\n",
       "      <td>0.42100</td>\n",
       "      <td>...</td>\n",
       "      <td>0.154</td>\n",
       "      <td>-9.108</td>\n",
       "      <td>0</td>\n",
       "      <td>0.0350</td>\n",
       "      <td>105.250</td>\n",
       "      <td>4</td>\n",
       "      <td>https://api.spotify.com/v1/tracks/54bm2e3tk8cl...</td>\n",
       "      <td>audio_features</td>\n",
       "      <td>spotify:track:54bm2e3tk8cliUz3VSdCPZ</td>\n",
       "      <td>0.562</td>\n",
       "    </tr>\n",
       "    <tr>\n",
       "      <th>4</th>\n",
       "      <td>Metallica</td>\n",
       "      <td>Sad But True - Live with the SFSO</td>\n",
       "      <td>5snyl56jcL8JMOqR02HYCA</td>\n",
       "      <td>35</td>\n",
       "      <td>0.000016</td>\n",
       "      <td>https://api.spotify.com/v1/audio-analysis/5sny...</td>\n",
       "      <td>0.294</td>\n",
       "      <td>346267</td>\n",
       "      <td>0.977</td>\n",
       "      <td>0.00209</td>\n",
       "      <td>...</td>\n",
       "      <td>0.928</td>\n",
       "      <td>-3.732</td>\n",
       "      <td>1</td>\n",
       "      <td>0.0731</td>\n",
       "      <td>92.375</td>\n",
       "      <td>4</td>\n",
       "      <td>https://api.spotify.com/v1/tracks/5snyl56jcL8J...</td>\n",
       "      <td>audio_features</td>\n",
       "      <td>spotify:track:5snyl56jcL8JMOqR02HYCA</td>\n",
       "      <td>0.243</td>\n",
       "    </tr>\n",
       "  </tbody>\n",
       "</table>\n",
       "<p>5 rows × 21 columns</p>\n",
       "</div>"
      ],
      "text/plain": [
       "  artist_name                          track_name                track_id  \\\n",
       "0   Metallica  Enter Sandman - Live with the SFSO  0T3Pft6gyhtBCrGOsSrvlE   \n",
       "1   Metallica        Battery - Live with the SFSO  2T9a3ToWrj8ijGUzCtlRNz   \n",
       "2   Metallica            One - Live with the SFSO  1L3xLJzYMRCN6ydha1XF42   \n",
       "3   Metallica      Master of Puppets (Remastered)  54bm2e3tk8cliUz3VSdCPZ   \n",
       "4   Metallica   Sad But True - Live with the SFSO  5snyl56jcL8JMOqR02HYCA   \n",
       "\n",
       "   popularity  acousticness  \\\n",
       "0          36      0.000144   \n",
       "1          34      0.000109   \n",
       "2          37      0.000007   \n",
       "3          66      0.000670   \n",
       "4          35      0.000016   \n",
       "\n",
       "                                        analysis_url  danceability  \\\n",
       "0  https://api.spotify.com/v1/audio-analysis/0T3P...         0.278   \n",
       "1  https://api.spotify.com/v1/audio-analysis/2T9a...         0.239   \n",
       "2  https://api.spotify.com/v1/audio-analysis/1L3x...         0.292   \n",
       "3  https://api.spotify.com/v1/audio-analysis/54bm...         0.539   \n",
       "4  https://api.spotify.com/v1/audio-analysis/5sny...         0.294   \n",
       "\n",
       "   duration_ms  energy  instrumentalness  ...  liveness  loudness  mode  \\\n",
       "0       459133   0.970           0.04810  ...     0.966    -4.537     0   \n",
       "1       444667   0.976           0.36200  ...     0.954    -5.290     1   \n",
       "2       473067   0.949           0.27900  ...     0.992    -5.735     0   \n",
       "3       515387   0.828           0.42100  ...     0.154    -9.108     0   \n",
       "4       346267   0.977           0.00209  ...     0.928    -3.732     1   \n",
       "\n",
       "   speechiness    tempo  time_signature  \\\n",
       "0       0.1450  131.288               4   \n",
       "1       0.3440   96.485               4   \n",
       "2       0.1340  124.283               4   \n",
       "3       0.0350  105.250               4   \n",
       "4       0.0731   92.375               4   \n",
       "\n",
       "                                          track_href            type  \\\n",
       "0  https://api.spotify.com/v1/tracks/0T3Pft6gyhtB...  audio_features   \n",
       "1  https://api.spotify.com/v1/tracks/2T9a3ToWrj8i...  audio_features   \n",
       "2  https://api.spotify.com/v1/tracks/1L3xLJzYMRCN...  audio_features   \n",
       "3  https://api.spotify.com/v1/tracks/54bm2e3tk8cl...  audio_features   \n",
       "4  https://api.spotify.com/v1/tracks/5snyl56jcL8J...  audio_features   \n",
       "\n",
       "                                    uri valence  \n",
       "0  spotify:track:0T3Pft6gyhtBCrGOsSrvlE   0.152  \n",
       "1  spotify:track:2T9a3ToWrj8ijGUzCtlRNz   0.125  \n",
       "2  spotify:track:1L3xLJzYMRCN6ydha1XF42   0.238  \n",
       "3  spotify:track:54bm2e3tk8cliUz3VSdCPZ   0.562  \n",
       "4  spotify:track:5snyl56jcL8JMOqR02HYCA   0.243  \n",
       "\n",
       "[5 rows x 21 columns]"
      ]
     },
     "execution_count": 40,
     "metadata": {},
     "output_type": "execute_result"
    }
   ],
   "source": [
    "df = pd.merge(df_tracks, df_audio_features, on='track_id', how='inner')\n",
    "print(\"Shape of dataset:\", df.shape)\n",
    "df.head()"
   ]
  },
  {
   "cell_type": "code",
   "execution_count": 41,
   "metadata": {},
   "outputs": [
    {
     "name": "stdout",
     "output_type": "stream",
     "text": [
      "<class 'pandas.core.frame.DataFrame'>\n",
      "Int64Index: 3141 entries, 0 to 3140\n",
      "Data columns (total 21 columns):\n",
      "artist_name         3141 non-null object\n",
      "track_name          3141 non-null object\n",
      "track_id            3141 non-null object\n",
      "popularity          3141 non-null int64\n",
      "acousticness        3141 non-null float64\n",
      "analysis_url        3141 non-null object\n",
      "danceability        3141 non-null float64\n",
      "duration_ms         3141 non-null int64\n",
      "energy              3141 non-null float64\n",
      "instrumentalness    3141 non-null float64\n",
      "key                 3141 non-null int64\n",
      "liveness            3141 non-null float64\n",
      "loudness            3141 non-null float64\n",
      "mode                3141 non-null int64\n",
      "speechiness         3141 non-null float64\n",
      "tempo               3141 non-null float64\n",
      "time_signature      3141 non-null int64\n",
      "track_href          3141 non-null object\n",
      "type                3141 non-null object\n",
      "uri                 3141 non-null object\n",
      "valence             3141 non-null float64\n",
      "dtypes: float64(9), int64(5), object(7)\n",
      "memory usage: 539.9+ KB\n"
     ]
    }
   ],
   "source": [
    "df.info()"
   ]
  },
  {
   "cell_type": "code",
   "execution_count": 42,
   "metadata": {},
   "outputs": [],
   "source": [
    "df.to_csv('data/saved-songs.csv')"
   ]
  },
  {
   "cell_type": "code",
   "execution_count": null,
   "metadata": {},
   "outputs": [],
   "source": []
  }
 ],
 "metadata": {
  "kernelspec": {
   "display_name": "Python 3",
   "language": "python",
   "name": "python3"
  },
  "language_info": {
   "codemirror_mode": {
    "name": "ipython",
    "version": 3
   },
   "file_extension": ".py",
   "mimetype": "text/x-python",
   "name": "python",
   "nbconvert_exporter": "python",
   "pygments_lexer": "ipython3",
   "version": "3.6.8"
  }
 },
 "nbformat": 4,
 "nbformat_minor": 2
}
