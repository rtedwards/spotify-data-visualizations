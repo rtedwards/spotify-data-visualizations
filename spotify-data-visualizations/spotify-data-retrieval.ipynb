{
 "cells": [
  {
   "cell_type": "markdown",
   "metadata": {},
   "source": [
    "# (Part 1) Data Collection Using Spotify Web API\n",
    "\n",
    "## Spotify Web API\n",
    "Spotify has a number of [API endpoints](https://developer.spotify.com/documentation/web-api/reference-beta/) available to access the Spoitfy data.  In this notebook, I use the following endpoints:\n",
    "\n",
    "+ [search enpoint](https://developer.spotify.com/documentation/web-api/reference/search/search/) to get the track IDs\n",
    "+ [audio features endpoint](https://developer.spotify.com/documentation/web-api/reference/tracks/get-several-audio-features/) to get the corresponding audio features.\n",
    "\n",
    "## Purpose of Notebook\n",
    "The purpose of this notebook is to show how to collect and store audio features data for tracks from the [official Spotify Web API](https://developer.spotify.com/documentation/web-api/) for futher exploratory data analysis and machine learning.  \n",
    "\n",
    "## Related Notebooks\n",
    "\n",
    "+ **[Part 1](https://github.com/rtedwards/spotify-data-visualizations/blob/master/spotify-data-visualizations/spotify-data-retrieval.ipynb)** walks through collecting liked tracks using Spotipy as a Python wrapper for the Spotify API and attaching audio features to each track and storing in a dataframe.\n",
    "+ [Part 2](https://github.com/rtedwards/spotify-data-visualizations/blob/master/spotify-data-visualizations/spotify-data-exploration.ipynb) is an exploratory data analysis of my liked tracks\n",
    "+ [Part 3](https://github.com/rtedwards/spotify-data-visualizations/blob/master/spotify-data-visualizations/spotify-data-clustering.ipynb) attempts to finds genres in my liked tracks using K-Means clustering from \n"
   ]
  },
  {
   "cell_type": "markdown",
   "metadata": {},
   "source": [
    "# 1. Setup\n",
    "The following code uses `spotipy` from the [Spotify](https://spotipy.readthedocs.io/en/latest/) library.  Spotipy is a python library for accessing the Spotify web API.  "
   ]
  },
  {
   "cell_type": "code",
   "execution_count": 21,
   "metadata": {},
   "outputs": [],
   "source": [
    "'''\n",
    "user-read-private \\\n",
    "user-read-email \\\n",
    "user-read-recently-played \\\n",
    "user-read-playback-state \\\n",
    "user-read-currently-playing \\\n",
    "user-library-read \\\n",
    "playlist-modify-public \\\n",
    "playlist-read-private \\\n",
    "user-follow-read \\\n",
    "user-top-read streaming\n",
    "'''\n",
    "\n",
    "import os  # for accessing environment variables\n",
    "import time  # for execution times\n",
    "import spotipy  # python library for Spotify API\n",
    "from spotipy.oauth2 import SpotifyClientCredentials\n",
    "import spotipy.util as util\n",
    "import seaborn as sns\n",
    "import pandas as pd"
   ]
  },
  {
   "cell_type": "markdown",
   "metadata": {},
   "source": [
    "# 2. Data Collection\n",
    "\n",
    "Data collection is done in 2 parts: first the track IDs and then the audio features for each track ID. "
   ]
  },
  {
   "cell_type": "code",
   "execution_count": null,
   "metadata": {},
   "outputs": [],
   "source": [
    "# Retreive client_id and client_secret from environment variables\n",
    "client_id = os.getenv('SPOTIFY_CLIENT_ID')\n",
    "client_secret = os.getenv('SPOTIFY_CLIENT_SECRET')\n",
    "redirect_uri = \"https://localhost/8888\"\n",
    "username = \"\"\n",
    "scope = 'user-library-read \\\n",
    "        playlist-read-private' \n",
    "\n",
    "# Setting Spotify Client Credentials\n",
    "client_credentials_manager = SpotifyClientCredentials(client_id=client_id, client_secret=client_secret)\n",
    "sp = spotipy.Spotify(client_credentials_manager=client_credentials_manager)\n",
    "\n",
    "# Retrieving API token\n",
    "token = util.prompt_for_user_token(username, scope, client_id, client_secret, redirect_uri)\n"
   ]
  },
  {
   "cell_type": "markdown",
   "metadata": {},
   "source": [
    "## I. Retrieving Saved Tracks"
   ]
  },
  {
   "cell_type": "code",
   "execution_count": 1,
   "metadata": {},
   "outputs": [
    {
     "name": "stdout",
     "output_type": "stream",
     "text": [
      "Time to run this code (in seconds): 16.363475799560547\n"
     ]
    }
   ],
   "source": [
    "if token:\n",
    "    # timeit library to measure the time needed to run this code\n",
    "    start = time.time()\n",
    "    \n",
    "    # create empty lists where the results are going to be stored\n",
    "    artist_name = []\n",
    "    track_name = []\n",
    "    popularity = []\n",
    "    track_id = []\n",
    "    num_tracks = 3500\n",
    "    sp = spotipy.Spotify(auth=token)\n",
    "    \n",
    "    for i in range(0,num_tracks,50):\n",
    "        track_results = sp.current_user_saved_tracks(limit=50,offset=i)\n",
    "        for item in track_results['items']:\n",
    "            track = item['track']\n",
    "            artist_name.append(track['artists'][0]['name'])\n",
    "            track_name.append(track['name'])\n",
    "            track_id.append(track['id'])\n",
    "            popularity.append(track['popularity'])\n",
    "        \n",
    "    stop = time.time()\n",
    "    print ('Time to run this code (in seconds):', stop - start)\n",
    "    \n",
    "else:\n",
    "    print(\"Can't get token for\", username)\n",
    "    "
   ]
  },
  {
   "cell_type": "markdown",
   "metadata": {},
   "source": [
    "Checking `track_id` list"
   ]
  },
  {
   "cell_type": "code",
   "execution_count": 2,
   "metadata": {},
   "outputs": [
    {
     "name": "stdout",
     "output_type": "stream",
     "text": [
      "number of elements in track_id list: 3203\n"
     ]
    }
   ],
   "source": [
    "print('number of elements in track_id list:', len(track_id))"
   ]
  },
  {
   "cell_type": "markdown",
   "metadata": {},
   "source": [
    "Loading data into a dataframe"
   ]
  },
  {
   "cell_type": "code",
   "execution_count": 7,
   "metadata": {},
   "outputs": [
    {
     "name": "stdout",
     "output_type": "stream",
     "text": [
      "(3203, 4)\n"
     ]
    },
    {
     "data": {
      "text/html": [
       "<div>\n",
       "<style scoped>\n",
       "    .dataframe tbody tr th:only-of-type {\n",
       "        vertical-align: middle;\n",
       "    }\n",
       "\n",
       "    .dataframe tbody tr th {\n",
       "        vertical-align: top;\n",
       "    }\n",
       "\n",
       "    .dataframe thead th {\n",
       "        text-align: right;\n",
       "    }\n",
       "</style>\n",
       "<table border=\"1\" class=\"dataframe\">\n",
       "  <thead>\n",
       "    <tr style=\"text-align: right;\">\n",
       "      <th></th>\n",
       "      <th>artist_name</th>\n",
       "      <th>track_name</th>\n",
       "      <th>track_id</th>\n",
       "      <th>popularity</th>\n",
       "    </tr>\n",
       "  </thead>\n",
       "  <tbody>\n",
       "    <tr>\n",
       "      <th>0</th>\n",
       "      <td>Lauer</td>\n",
       "      <td>Mirrors (feat. Jasnau)</td>\n",
       "      <td>1tTwnpx4TvhnTAzBjFditv</td>\n",
       "      <td>30</td>\n",
       "    </tr>\n",
       "    <tr>\n",
       "      <th>1</th>\n",
       "      <td>Anderholm</td>\n",
       "      <td>Wonderland</td>\n",
       "      <td>4wl0zWqB3FMgQvAJZx2Z9V</td>\n",
       "      <td>20</td>\n",
       "    </tr>\n",
       "    <tr>\n",
       "      <th>2</th>\n",
       "      <td>Ben Böhmer</td>\n",
       "      <td>Fliederregen</td>\n",
       "      <td>7kltLoEOuwwSNsCZChIaj9</td>\n",
       "      <td>46</td>\n",
       "    </tr>\n",
       "    <tr>\n",
       "      <th>3</th>\n",
       "      <td>Jai Piccone</td>\n",
       "      <td>Care</td>\n",
       "      <td>7eT788aFqbLJNZbYf3QaJl</td>\n",
       "      <td>40</td>\n",
       "    </tr>\n",
       "    <tr>\n",
       "      <th>4</th>\n",
       "      <td>Daniel T.</td>\n",
       "      <td>Heat-Wave</td>\n",
       "      <td>5RwQuZtvlmLq6rutrcugxF</td>\n",
       "      <td>34</td>\n",
       "    </tr>\n",
       "  </tbody>\n",
       "</table>\n",
       "</div>"
      ],
      "text/plain": [
       "   artist_name              track_name                track_id  popularity\n",
       "0        Lauer  Mirrors (feat. Jasnau)  1tTwnpx4TvhnTAzBjFditv          30\n",
       "1    Anderholm              Wonderland  4wl0zWqB3FMgQvAJZx2Z9V          20\n",
       "2   Ben Böhmer            Fliederregen  7kltLoEOuwwSNsCZChIaj9          46\n",
       "3  Jai Piccone                    Care  7eT788aFqbLJNZbYf3QaJl          40\n",
       "4    Daniel T.               Heat-Wave  5RwQuZtvlmLq6rutrcugxF          34"
      ]
     },
     "execution_count": 7,
     "metadata": {},
     "output_type": "execute_result"
    }
   ],
   "source": [
    "df_tracks = pd.DataFrame({'artist_name':artist_name, \n",
    "                          'track_name':track_name, \n",
    "                          'track_id':track_id, \n",
    "                          'popularity':popularity})\n",
    "print(df_tracks.shape)\n",
    "df_tracks.head()"
   ]
  },
  {
   "cell_type": "markdown",
   "metadata": {},
   "source": [
    "Let's view some information about the dataframe:"
   ]
  },
  {
   "cell_type": "code",
   "execution_count": 8,
   "metadata": {},
   "outputs": [
    {
     "name": "stdout",
     "output_type": "stream",
     "text": [
      "<class 'pandas.core.frame.DataFrame'>\n",
      "RangeIndex: 3203 entries, 0 to 3202\n",
      "Data columns (total 4 columns):\n",
      "artist_name    3203 non-null object\n",
      "track_name     3203 non-null object\n",
      "track_id       3203 non-null object\n",
      "popularity     3203 non-null int64\n",
      "dtypes: int64(1), object(3)\n",
      "memory usage: 100.2+ KB\n"
     ]
    }
   ],
   "source": [
    "df_tracks.info()"
   ]
  },
  {
   "cell_type": "markdown",
   "metadata": {},
   "source": [
    "## Checking Our Data\n",
    "There can be duplicates of the same track under different IDs.  This is caused by the track being released in single albums and full albums. "
   ]
  },
  {
   "cell_type": "code",
   "execution_count": 9,
   "metadata": {},
   "outputs": [
    {
     "data": {
      "text/plain": [
       "artist_name    183\n",
       "track_name     183\n",
       "track_id       183\n",
       "popularity     183\n",
       "dtype: int64"
      ]
     },
     "execution_count": 9,
     "metadata": {},
     "output_type": "execute_result"
    }
   ],
   "source": [
    "df_tracks[df_tracks.duplicated(subset=['artist_name','track_name'],keep=False)].count()"
   ]
  },
  {
   "cell_type": "code",
   "execution_count": 10,
   "metadata": {},
   "outputs": [
    {
     "name": "stdout",
     "output_type": "stream",
     "text": [
      "Number of duplicate tracks:  90\n"
     ]
    }
   ],
   "source": [
    "# group the entries by artist_name and track_name and check for duplicates\n",
    "\n",
    "duplicates = df_tracks.groupby(['artist_name','track_name'], as_index=True).size()\n",
    "print(\"Number of duplicate tracks: \", duplicates[duplicates > 1].count() )\n"
   ]
  },
  {
   "cell_type": "markdown",
   "metadata": {},
   "source": [
    "Dropping duplicate tracks:"
   ]
  },
  {
   "cell_type": "code",
   "execution_count": 11,
   "metadata": {},
   "outputs": [],
   "source": [
    "df_tracks.drop_duplicates(subset=['artist_name', 'track_name'], inplace=True)"
   ]
  },
  {
   "cell_type": "markdown",
   "metadata": {},
   "source": [
    "Check again for duplicates:"
   ]
  },
  {
   "cell_type": "code",
   "execution_count": 12,
   "metadata": {},
   "outputs": [
    {
     "name": "stdout",
     "output_type": "stream",
     "text": [
      "Number of duplicate tracks:  0\n"
     ]
    }
   ],
   "source": [
    "# group the entries by artist_name and track_name and check for duplicates\n",
    "\n",
    "duplicates = df_tracks.groupby(['artist_name','track_name'], as_index=True).size()\n",
    "print(\"Number of duplicate tracks: \", duplicates[duplicates > 1].count() )\n"
   ]
  },
  {
   "cell_type": "markdown",
   "metadata": {},
   "source": [
    "Now to check the shape of our data:"
   ]
  },
  {
   "cell_type": "code",
   "execution_count": 13,
   "metadata": {},
   "outputs": [
    {
     "data": {
      "text/plain": [
       "(3110, 4)"
      ]
     },
     "execution_count": 13,
     "metadata": {},
     "output_type": "execute_result"
    }
   ],
   "source": [
    "df_tracks.shape"
   ]
  },
  {
   "cell_type": "markdown",
   "metadata": {},
   "source": [
    "# II. Retrieve Audio Features for each Track\n",
    "Using the [audio features endpoint](https://developer.spotify.com/documentation/web-api/reference/tracks/get-several-audio-features/) we can retrieve the audio features data for the tracks we have collected.\n",
    "\n",
    "There is a 100 track ID limit per query for this endpoint.  We can use anested for loop to pull track IDs in batches of size 100. "
   ]
  },
  {
   "cell_type": "code",
   "execution_count": 14,
   "metadata": {},
   "outputs": [
    {
     "name": "stdout",
     "output_type": "stream",
     "text": [
      "Number of tracks where no audio features were available: 0\n",
      "Code runtime (sec): 7.467611312866211\n"
     ]
    }
   ],
   "source": [
    "# Measuring time\n",
    "start = time.time()\n",
    "\n",
    "rows = []\n",
    "batchsize = 100\n",
    "None_counter = 0\n",
    "\n",
    "for i in range(0, len(df_tracks['track_id']), batchsize): \n",
    "    batch = df_tracks['track_id'][i:i+batchsize]\n",
    "    feature_results = sp.audio_features(batch)\n",
    "    \n",
    "    for i, t in enumerate(feature_results):\n",
    "        if t == None:\n",
    "            None_counter = None_counter + 1\n",
    "        else:\n",
    "            rows.append(t)\n",
    "            \n",
    "print('Number of tracks where no audio features were available:', None_counter)\n",
    "\n",
    "stop = time.time()\n",
    "print ('Code runtime (sec):', stop - start)"
   ]
  },
  {
   "cell_type": "code",
   "execution_count": 15,
   "metadata": {},
   "outputs": [
    {
     "name": "stdout",
     "output_type": "stream",
     "text": [
      "Number of elements in audio_features list: 3110\n"
     ]
    }
   ],
   "source": [
    "print('Number of elements in audio_features list:', len(rows))"
   ]
  },
  {
   "cell_type": "code",
   "execution_count": 16,
   "metadata": {},
   "outputs": [
    {
     "name": "stdout",
     "output_type": "stream",
     "text": [
      "Shape of dataset: (3110, 18)\n"
     ]
    },
    {
     "data": {
      "text/html": [
       "<div>\n",
       "<style scoped>\n",
       "    .dataframe tbody tr th:only-of-type {\n",
       "        vertical-align: middle;\n",
       "    }\n",
       "\n",
       "    .dataframe tbody tr th {\n",
       "        vertical-align: top;\n",
       "    }\n",
       "\n",
       "    .dataframe thead th {\n",
       "        text-align: right;\n",
       "    }\n",
       "</style>\n",
       "<table border=\"1\" class=\"dataframe\">\n",
       "  <thead>\n",
       "    <tr style=\"text-align: right;\">\n",
       "      <th></th>\n",
       "      <th>acousticness</th>\n",
       "      <th>analysis_url</th>\n",
       "      <th>danceability</th>\n",
       "      <th>duration_ms</th>\n",
       "      <th>energy</th>\n",
       "      <th>id</th>\n",
       "      <th>instrumentalness</th>\n",
       "      <th>key</th>\n",
       "      <th>liveness</th>\n",
       "      <th>loudness</th>\n",
       "      <th>mode</th>\n",
       "      <th>speechiness</th>\n",
       "      <th>tempo</th>\n",
       "      <th>time_signature</th>\n",
       "      <th>track_href</th>\n",
       "      <th>type</th>\n",
       "      <th>uri</th>\n",
       "      <th>valence</th>\n",
       "    </tr>\n",
       "  </thead>\n",
       "  <tbody>\n",
       "    <tr>\n",
       "      <th>0</th>\n",
       "      <td>0.0150</td>\n",
       "      <td>https://api.spotify.com/v1/audio-analysis/1tTw...</td>\n",
       "      <td>0.668</td>\n",
       "      <td>258067</td>\n",
       "      <td>0.878</td>\n",
       "      <td>1tTwnpx4TvhnTAzBjFditv</td>\n",
       "      <td>0.554</td>\n",
       "      <td>5</td>\n",
       "      <td>0.146</td>\n",
       "      <td>-7.538</td>\n",
       "      <td>1</td>\n",
       "      <td>0.0472</td>\n",
       "      <td>122.006</td>\n",
       "      <td>4</td>\n",
       "      <td>https://api.spotify.com/v1/tracks/1tTwnpx4Tvhn...</td>\n",
       "      <td>audio_features</td>\n",
       "      <td>spotify:track:1tTwnpx4TvhnTAzBjFditv</td>\n",
       "      <td>0.655</td>\n",
       "    </tr>\n",
       "    <tr>\n",
       "      <th>1</th>\n",
       "      <td>0.2400</td>\n",
       "      <td>https://api.spotify.com/v1/audio-analysis/4wl0...</td>\n",
       "      <td>0.688</td>\n",
       "      <td>230620</td>\n",
       "      <td>0.908</td>\n",
       "      <td>4wl0zWqB3FMgQvAJZx2Z9V</td>\n",
       "      <td>0.962</td>\n",
       "      <td>1</td>\n",
       "      <td>0.107</td>\n",
       "      <td>-6.662</td>\n",
       "      <td>1</td>\n",
       "      <td>0.0345</td>\n",
       "      <td>120.000</td>\n",
       "      <td>4</td>\n",
       "      <td>https://api.spotify.com/v1/tracks/4wl0zWqB3FMg...</td>\n",
       "      <td>audio_features</td>\n",
       "      <td>spotify:track:4wl0zWqB3FMgQvAJZx2Z9V</td>\n",
       "      <td>0.497</td>\n",
       "    </tr>\n",
       "    <tr>\n",
       "      <th>2</th>\n",
       "      <td>0.0121</td>\n",
       "      <td>https://api.spotify.com/v1/audio-analysis/7klt...</td>\n",
       "      <td>0.672</td>\n",
       "      <td>265868</td>\n",
       "      <td>0.336</td>\n",
       "      <td>7kltLoEOuwwSNsCZChIaj9</td>\n",
       "      <td>0.851</td>\n",
       "      <td>5</td>\n",
       "      <td>0.140</td>\n",
       "      <td>-9.384</td>\n",
       "      <td>0</td>\n",
       "      <td>0.0348</td>\n",
       "      <td>120.994</td>\n",
       "      <td>4</td>\n",
       "      <td>https://api.spotify.com/v1/tracks/7kltLoEOuwwS...</td>\n",
       "      <td>audio_features</td>\n",
       "      <td>spotify:track:7kltLoEOuwwSNsCZChIaj9</td>\n",
       "      <td>0.311</td>\n",
       "    </tr>\n",
       "    <tr>\n",
       "      <th>3</th>\n",
       "      <td>0.5140</td>\n",
       "      <td>https://api.spotify.com/v1/audio-analysis/7eT7...</td>\n",
       "      <td>0.756</td>\n",
       "      <td>327096</td>\n",
       "      <td>0.497</td>\n",
       "      <td>7eT788aFqbLJNZbYf3QaJl</td>\n",
       "      <td>0.696</td>\n",
       "      <td>8</td>\n",
       "      <td>0.108</td>\n",
       "      <td>-7.571</td>\n",
       "      <td>1</td>\n",
       "      <td>0.0419</td>\n",
       "      <td>120.994</td>\n",
       "      <td>4</td>\n",
       "      <td>https://api.spotify.com/v1/tracks/7eT788aFqbLJ...</td>\n",
       "      <td>audio_features</td>\n",
       "      <td>spotify:track:7eT788aFqbLJNZbYf3QaJl</td>\n",
       "      <td>0.646</td>\n",
       "    </tr>\n",
       "    <tr>\n",
       "      <th>4</th>\n",
       "      <td>0.0110</td>\n",
       "      <td>https://api.spotify.com/v1/audio-analysis/5RwQ...</td>\n",
       "      <td>0.705</td>\n",
       "      <td>356224</td>\n",
       "      <td>0.656</td>\n",
       "      <td>5RwQuZtvlmLq6rutrcugxF</td>\n",
       "      <td>0.540</td>\n",
       "      <td>1</td>\n",
       "      <td>0.178</td>\n",
       "      <td>-8.549</td>\n",
       "      <td>0</td>\n",
       "      <td>0.0513</td>\n",
       "      <td>126.000</td>\n",
       "      <td>4</td>\n",
       "      <td>https://api.spotify.com/v1/tracks/5RwQuZtvlmLq...</td>\n",
       "      <td>audio_features</td>\n",
       "      <td>spotify:track:5RwQuZtvlmLq6rutrcugxF</td>\n",
       "      <td>0.397</td>\n",
       "    </tr>\n",
       "  </tbody>\n",
       "</table>\n",
       "</div>"
      ],
      "text/plain": [
       "   acousticness                                       analysis_url  \\\n",
       "0        0.0150  https://api.spotify.com/v1/audio-analysis/1tTw...   \n",
       "1        0.2400  https://api.spotify.com/v1/audio-analysis/4wl0...   \n",
       "2        0.0121  https://api.spotify.com/v1/audio-analysis/7klt...   \n",
       "3        0.5140  https://api.spotify.com/v1/audio-analysis/7eT7...   \n",
       "4        0.0110  https://api.spotify.com/v1/audio-analysis/5RwQ...   \n",
       "\n",
       "   danceability  duration_ms  energy                      id  \\\n",
       "0         0.668       258067   0.878  1tTwnpx4TvhnTAzBjFditv   \n",
       "1         0.688       230620   0.908  4wl0zWqB3FMgQvAJZx2Z9V   \n",
       "2         0.672       265868   0.336  7kltLoEOuwwSNsCZChIaj9   \n",
       "3         0.756       327096   0.497  7eT788aFqbLJNZbYf3QaJl   \n",
       "4         0.705       356224   0.656  5RwQuZtvlmLq6rutrcugxF   \n",
       "\n",
       "   instrumentalness  key  liveness  loudness  mode  speechiness    tempo  \\\n",
       "0             0.554    5     0.146    -7.538     1       0.0472  122.006   \n",
       "1             0.962    1     0.107    -6.662     1       0.0345  120.000   \n",
       "2             0.851    5     0.140    -9.384     0       0.0348  120.994   \n",
       "3             0.696    8     0.108    -7.571     1       0.0419  120.994   \n",
       "4             0.540    1     0.178    -8.549     0       0.0513  126.000   \n",
       "\n",
       "   time_signature                                         track_href  \\\n",
       "0               4  https://api.spotify.com/v1/tracks/1tTwnpx4Tvhn...   \n",
       "1               4  https://api.spotify.com/v1/tracks/4wl0zWqB3FMg...   \n",
       "2               4  https://api.spotify.com/v1/tracks/7kltLoEOuwwS...   \n",
       "3               4  https://api.spotify.com/v1/tracks/7eT788aFqbLJ...   \n",
       "4               4  https://api.spotify.com/v1/tracks/5RwQuZtvlmLq...   \n",
       "\n",
       "             type                                   uri  valence  \n",
       "0  audio_features  spotify:track:1tTwnpx4TvhnTAzBjFditv    0.655  \n",
       "1  audio_features  spotify:track:4wl0zWqB3FMgQvAJZx2Z9V    0.497  \n",
       "2  audio_features  spotify:track:7kltLoEOuwwSNsCZChIaj9    0.311  \n",
       "3  audio_features  spotify:track:7eT788aFqbLJNZbYf3QaJl    0.646  \n",
       "4  audio_features  spotify:track:5RwQuZtvlmLq6rutrcugxF    0.397  "
      ]
     },
     "execution_count": 16,
     "metadata": {},
     "output_type": "execute_result"
    }
   ],
   "source": [
    "df_audio_features = pd.DataFrame.from_dict(rows, orient='columns')\n",
    "print(\"Shape of dataset:\", df_audio_features.shape)\n",
    "df_audio_features.head()"
   ]
  },
  {
   "cell_type": "markdown",
   "metadata": {},
   "source": [
    "Renaming `id` to `track_id` to match the `df_tracks` dataframe:"
   ]
  },
  {
   "cell_type": "code",
   "execution_count": 17,
   "metadata": {},
   "outputs": [
    {
     "data": {
      "text/plain": [
       "(3110, 18)"
      ]
     },
     "execution_count": 17,
     "metadata": {},
     "output_type": "execute_result"
    }
   ],
   "source": [
    "df_audio_features.rename(columns = {'id': 'track_id'}, inplace=True)\n",
    "df_audio_features.shape # checking our progress"
   ]
  },
  {
   "cell_type": "markdown",
   "metadata": {},
   "source": [
    "To combine the two dataframes we do an inner merge to only keep track IDs that are in both datasets."
   ]
  },
  {
   "cell_type": "code",
   "execution_count": 22,
   "metadata": {},
   "outputs": [
    {
     "name": "stdout",
     "output_type": "stream",
     "text": [
      "Shape of dataset: (3110, 21)\n"
     ]
    },
    {
     "data": {
      "text/html": [
       "<div>\n",
       "<style scoped>\n",
       "    .dataframe tbody tr th:only-of-type {\n",
       "        vertical-align: middle;\n",
       "    }\n",
       "\n",
       "    .dataframe tbody tr th {\n",
       "        vertical-align: top;\n",
       "    }\n",
       "\n",
       "    .dataframe thead th {\n",
       "        text-align: right;\n",
       "    }\n",
       "</style>\n",
       "<table border=\"1\" class=\"dataframe\">\n",
       "  <thead>\n",
       "    <tr style=\"text-align: right;\">\n",
       "      <th></th>\n",
       "      <th>artist_name</th>\n",
       "      <th>track_name</th>\n",
       "      <th>track_id</th>\n",
       "      <th>popularity</th>\n",
       "      <th>acousticness</th>\n",
       "      <th>analysis_url</th>\n",
       "      <th>danceability</th>\n",
       "      <th>duration_ms</th>\n",
       "      <th>energy</th>\n",
       "      <th>instrumentalness</th>\n",
       "      <th>...</th>\n",
       "      <th>liveness</th>\n",
       "      <th>loudness</th>\n",
       "      <th>mode</th>\n",
       "      <th>speechiness</th>\n",
       "      <th>tempo</th>\n",
       "      <th>time_signature</th>\n",
       "      <th>track_href</th>\n",
       "      <th>type</th>\n",
       "      <th>uri</th>\n",
       "      <th>valence</th>\n",
       "    </tr>\n",
       "  </thead>\n",
       "  <tbody>\n",
       "    <tr>\n",
       "      <th>0</th>\n",
       "      <td>Lauer</td>\n",
       "      <td>Mirrors (feat. Jasnau)</td>\n",
       "      <td>1tTwnpx4TvhnTAzBjFditv</td>\n",
       "      <td>30</td>\n",
       "      <td>0.0150</td>\n",
       "      <td>https://api.spotify.com/v1/audio-analysis/1tTw...</td>\n",
       "      <td>0.668</td>\n",
       "      <td>258067</td>\n",
       "      <td>0.878</td>\n",
       "      <td>0.554</td>\n",
       "      <td>...</td>\n",
       "      <td>0.146</td>\n",
       "      <td>-7.538</td>\n",
       "      <td>1</td>\n",
       "      <td>0.0472</td>\n",
       "      <td>122.006</td>\n",
       "      <td>4</td>\n",
       "      <td>https://api.spotify.com/v1/tracks/1tTwnpx4Tvhn...</td>\n",
       "      <td>audio_features</td>\n",
       "      <td>spotify:track:1tTwnpx4TvhnTAzBjFditv</td>\n",
       "      <td>0.655</td>\n",
       "    </tr>\n",
       "    <tr>\n",
       "      <th>1</th>\n",
       "      <td>Anderholm</td>\n",
       "      <td>Wonderland</td>\n",
       "      <td>4wl0zWqB3FMgQvAJZx2Z9V</td>\n",
       "      <td>20</td>\n",
       "      <td>0.2400</td>\n",
       "      <td>https://api.spotify.com/v1/audio-analysis/4wl0...</td>\n",
       "      <td>0.688</td>\n",
       "      <td>230620</td>\n",
       "      <td>0.908</td>\n",
       "      <td>0.962</td>\n",
       "      <td>...</td>\n",
       "      <td>0.107</td>\n",
       "      <td>-6.662</td>\n",
       "      <td>1</td>\n",
       "      <td>0.0345</td>\n",
       "      <td>120.000</td>\n",
       "      <td>4</td>\n",
       "      <td>https://api.spotify.com/v1/tracks/4wl0zWqB3FMg...</td>\n",
       "      <td>audio_features</td>\n",
       "      <td>spotify:track:4wl0zWqB3FMgQvAJZx2Z9V</td>\n",
       "      <td>0.497</td>\n",
       "    </tr>\n",
       "    <tr>\n",
       "      <th>2</th>\n",
       "      <td>Ben Böhmer</td>\n",
       "      <td>Fliederregen</td>\n",
       "      <td>7kltLoEOuwwSNsCZChIaj9</td>\n",
       "      <td>46</td>\n",
       "      <td>0.0121</td>\n",
       "      <td>https://api.spotify.com/v1/audio-analysis/7klt...</td>\n",
       "      <td>0.672</td>\n",
       "      <td>265868</td>\n",
       "      <td>0.336</td>\n",
       "      <td>0.851</td>\n",
       "      <td>...</td>\n",
       "      <td>0.140</td>\n",
       "      <td>-9.384</td>\n",
       "      <td>0</td>\n",
       "      <td>0.0348</td>\n",
       "      <td>120.994</td>\n",
       "      <td>4</td>\n",
       "      <td>https://api.spotify.com/v1/tracks/7kltLoEOuwwS...</td>\n",
       "      <td>audio_features</td>\n",
       "      <td>spotify:track:7kltLoEOuwwSNsCZChIaj9</td>\n",
       "      <td>0.311</td>\n",
       "    </tr>\n",
       "    <tr>\n",
       "      <th>3</th>\n",
       "      <td>Jai Piccone</td>\n",
       "      <td>Care</td>\n",
       "      <td>7eT788aFqbLJNZbYf3QaJl</td>\n",
       "      <td>40</td>\n",
       "      <td>0.5140</td>\n",
       "      <td>https://api.spotify.com/v1/audio-analysis/7eT7...</td>\n",
       "      <td>0.756</td>\n",
       "      <td>327096</td>\n",
       "      <td>0.497</td>\n",
       "      <td>0.696</td>\n",
       "      <td>...</td>\n",
       "      <td>0.108</td>\n",
       "      <td>-7.571</td>\n",
       "      <td>1</td>\n",
       "      <td>0.0419</td>\n",
       "      <td>120.994</td>\n",
       "      <td>4</td>\n",
       "      <td>https://api.spotify.com/v1/tracks/7eT788aFqbLJ...</td>\n",
       "      <td>audio_features</td>\n",
       "      <td>spotify:track:7eT788aFqbLJNZbYf3QaJl</td>\n",
       "      <td>0.646</td>\n",
       "    </tr>\n",
       "    <tr>\n",
       "      <th>4</th>\n",
       "      <td>Daniel T.</td>\n",
       "      <td>Heat-Wave</td>\n",
       "      <td>5RwQuZtvlmLq6rutrcugxF</td>\n",
       "      <td>34</td>\n",
       "      <td>0.0110</td>\n",
       "      <td>https://api.spotify.com/v1/audio-analysis/5RwQ...</td>\n",
       "      <td>0.705</td>\n",
       "      <td>356224</td>\n",
       "      <td>0.656</td>\n",
       "      <td>0.540</td>\n",
       "      <td>...</td>\n",
       "      <td>0.178</td>\n",
       "      <td>-8.549</td>\n",
       "      <td>0</td>\n",
       "      <td>0.0513</td>\n",
       "      <td>126.000</td>\n",
       "      <td>4</td>\n",
       "      <td>https://api.spotify.com/v1/tracks/5RwQuZtvlmLq...</td>\n",
       "      <td>audio_features</td>\n",
       "      <td>spotify:track:5RwQuZtvlmLq6rutrcugxF</td>\n",
       "      <td>0.397</td>\n",
       "    </tr>\n",
       "  </tbody>\n",
       "</table>\n",
       "<p>5 rows × 21 columns</p>\n",
       "</div>"
      ],
      "text/plain": [
       "   artist_name              track_name                track_id  popularity  \\\n",
       "0        Lauer  Mirrors (feat. Jasnau)  1tTwnpx4TvhnTAzBjFditv          30   \n",
       "1    Anderholm              Wonderland  4wl0zWqB3FMgQvAJZx2Z9V          20   \n",
       "2   Ben Böhmer            Fliederregen  7kltLoEOuwwSNsCZChIaj9          46   \n",
       "3  Jai Piccone                    Care  7eT788aFqbLJNZbYf3QaJl          40   \n",
       "4    Daniel T.               Heat-Wave  5RwQuZtvlmLq6rutrcugxF          34   \n",
       "\n",
       "   acousticness                                       analysis_url  \\\n",
       "0        0.0150  https://api.spotify.com/v1/audio-analysis/1tTw...   \n",
       "1        0.2400  https://api.spotify.com/v1/audio-analysis/4wl0...   \n",
       "2        0.0121  https://api.spotify.com/v1/audio-analysis/7klt...   \n",
       "3        0.5140  https://api.spotify.com/v1/audio-analysis/7eT7...   \n",
       "4        0.0110  https://api.spotify.com/v1/audio-analysis/5RwQ...   \n",
       "\n",
       "   danceability  duration_ms  energy  instrumentalness  ...  liveness  \\\n",
       "0         0.668       258067   0.878             0.554  ...     0.146   \n",
       "1         0.688       230620   0.908             0.962  ...     0.107   \n",
       "2         0.672       265868   0.336             0.851  ...     0.140   \n",
       "3         0.756       327096   0.497             0.696  ...     0.108   \n",
       "4         0.705       356224   0.656             0.540  ...     0.178   \n",
       "\n",
       "   loudness  mode  speechiness    tempo  time_signature  \\\n",
       "0    -7.538     1       0.0472  122.006               4   \n",
       "1    -6.662     1       0.0345  120.000               4   \n",
       "2    -9.384     0       0.0348  120.994               4   \n",
       "3    -7.571     1       0.0419  120.994               4   \n",
       "4    -8.549     0       0.0513  126.000               4   \n",
       "\n",
       "                                          track_href            type  \\\n",
       "0  https://api.spotify.com/v1/tracks/1tTwnpx4Tvhn...  audio_features   \n",
       "1  https://api.spotify.com/v1/tracks/4wl0zWqB3FMg...  audio_features   \n",
       "2  https://api.spotify.com/v1/tracks/7kltLoEOuwwS...  audio_features   \n",
       "3  https://api.spotify.com/v1/tracks/7eT788aFqbLJ...  audio_features   \n",
       "4  https://api.spotify.com/v1/tracks/5RwQuZtvlmLq...  audio_features   \n",
       "\n",
       "                                    uri valence  \n",
       "0  spotify:track:1tTwnpx4TvhnTAzBjFditv   0.655  \n",
       "1  spotify:track:4wl0zWqB3FMgQvAJZx2Z9V   0.497  \n",
       "2  spotify:track:7kltLoEOuwwSNsCZChIaj9   0.311  \n",
       "3  spotify:track:7eT788aFqbLJNZbYf3QaJl   0.646  \n",
       "4  spotify:track:5RwQuZtvlmLq6rutrcugxF   0.397  \n",
       "\n",
       "[5 rows x 21 columns]"
      ]
     },
     "execution_count": 22,
     "metadata": {},
     "output_type": "execute_result"
    }
   ],
   "source": [
    "df = pd.merge(df_tracks, df_audio_features, on='track_id', how='inner')\n",
    "print(\"Shape of dataset:\", df.shape)\n",
    "df.head()"
   ]
  },
  {
   "cell_type": "code",
   "execution_count": 23,
   "metadata": {},
   "outputs": [
    {
     "name": "stdout",
     "output_type": "stream",
     "text": [
      "<class 'pandas.core.frame.DataFrame'>\n",
      "Int64Index: 3110 entries, 0 to 3109\n",
      "Data columns (total 21 columns):\n",
      "artist_name         3110 non-null object\n",
      "track_name          3110 non-null object\n",
      "track_id            3110 non-null object\n",
      "popularity          3110 non-null int64\n",
      "acousticness        3110 non-null float64\n",
      "analysis_url        3110 non-null object\n",
      "danceability        3110 non-null float64\n",
      "duration_ms         3110 non-null int64\n",
      "energy              3110 non-null float64\n",
      "instrumentalness    3110 non-null float64\n",
      "key                 3110 non-null int64\n",
      "liveness            3110 non-null float64\n",
      "loudness            3110 non-null float64\n",
      "mode                3110 non-null int64\n",
      "speechiness         3110 non-null float64\n",
      "tempo               3110 non-null float64\n",
      "time_signature      3110 non-null int64\n",
      "track_href          3110 non-null object\n",
      "type                3110 non-null object\n",
      "uri                 3110 non-null object\n",
      "valence             3110 non-null float64\n",
      "dtypes: float64(9), int64(5), object(7)\n",
      "memory usage: 534.5+ KB\n"
     ]
    }
   ],
   "source": [
    "df.info()"
   ]
  },
  {
   "cell_type": "code",
   "execution_count": 20,
   "metadata": {},
   "outputs": [],
   "source": [
    "columns_to_drop = ['analysis_url', 'track_href', 'type', 'uri']\n",
    "df.drop(columns_to_drop, axis=1, inplace=True)"
   ]
  },
  {
   "cell_type": "code",
   "execution_count": 24,
   "metadata": {},
   "outputs": [],
   "source": [
    "df.to_csv('data/saved-songs.csv')"
   ]
  },
  {
   "cell_type": "code",
   "execution_count": null,
   "metadata": {},
   "outputs": [],
   "source": []
  }
 ],
 "metadata": {
  "kernelspec": {
   "display_name": "Python 3",
   "language": "python",
   "name": "python3"
  },
  "language_info": {
   "codemirror_mode": {
    "name": "ipython",
    "version": 3
   },
   "file_extension": ".py",
   "mimetype": "text/x-python",
   "name": "python",
   "nbconvert_exporter": "python",
   "pygments_lexer": "ipython3",
   "version": "3.6.8"
  }
 },
 "nbformat": 4,
 "nbformat_minor": 2
}
