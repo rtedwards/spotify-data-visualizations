{
 "cells": [
  {
   "cell_type": "markdown",
   "metadata": {},
   "source": [
    "# Finding Musical Genres\n",
    "\n",
    "\n",
    "## Purpose of Notebook\n",
    "In this notebook we will be trying to cluster the tracks in my Spotify library into genres and create playlists based on the genres.    \n",
    "\n",
    "## Related Notebooks\n",
    "\n",
    "1. [Data Retrieval](https://github.com/rtedwards/spotify-data-visualizations/blob/master/spotify-data-visualizations/spotify-data-retrieval.ipynb) walks through collecting liked tracks using Spotipy as a Python wrapper for the Spotify API and attaching audio features to each track and storing in a dataframe.\n",
    "2. [Data Exploration](https://github.com/rtedwards/spotify-data-visualizations/blob/master/spotify-data-visualizations/spotify-data-exploration.ipynb) is an exploratory data analysis of my liked tracks\n",
    "3. **[Data Clustering](https://github.com/rtedwards/spotify-data-visualizations/blob/master/spotify-data-visualizations/spotify-data-clustering.ipynb)**  attempts to finds genres in my liked tracks using K-Means clustering from \n",
    "\n",
    "\n",
    "## Resources\n",
    "\n",
    "+ [official Spotify Web API](https://developer.spotify.com/documentation/web-api/) \n",
    "\n",
    "\n",
    "### Spotify Web API\n",
    "Spotify has a number of [API endpoints](https://developer.spotify.com/documentation/web-api/reference-beta/) available to access the Spoitfy data.  In this notebook, I use the following endpoints:\n",
    "\n",
    "+ [search endpoint](https://developer.spotify.com/documentation/web-api/reference/search/search/) to get the track IDs\n",
    "+ [audio features endpoint](https://developer.spotify.com/documentation/web-api/reference/tracks/get-several-audio-features/) to get the corresponding audio features.\n",
    "\n",
    "\n",
    "### K-Means Clustering\n",
    "\n",
    "K-Means is intuitive and computationally fast that works well on spherical data (i.e. \"blobs\").  In the last notebook we saw that the data looked more like skewed blobs or a singular blob possibly indicating that K-Means may not find many clusters.  Agglomerative Hierarchical Clustering may work better as we can choose different linkage methods.  However, we will proceed with K-Means and see how it does.\n",
    "\n",
    "+ [Python Data Science Handbook](http://shop.oreilly.com/product/0636920034919.do)\n",
    "+ [Clustering Algorithms](https://scikit-learn.org/stable/modules/clustering.html#dbscan)\n"
   ]
  },
  {
   "cell_type": "code",
   "execution_count": 1,
   "metadata": {},
   "outputs": [],
   "source": [
    "import pandas as pd  \n",
    "import numpy as np  \n",
    "import matplotlib.pyplot as plt \n",
    "import seaborn as sns; sns.set()  # for plot styling\n",
    "from IPython.display import IFrame  # for embedding Spotify player\n",
    "from sklearn.cluster import KMeans"
   ]
  },
  {
   "cell_type": "markdown",
   "metadata": {},
   "source": [
    "First, we need to import the data:"
   ]
  },
  {
   "cell_type": "code",
   "execution_count": 3,
   "metadata": {},
   "outputs": [],
   "source": [
    "df = pd.read_csv('data/saved-songs.csv')"
   ]
  },
  {
   "cell_type": "code",
   "execution_count": 4,
   "metadata": {},
   "outputs": [],
   "source": [
    "df_features = df[['popularity','acousticness', 'danceability', 'energy', 'instrumentalness', 'liveness', 'loudness', 'speechiness', 'tempo', 'duration_ms', 'valence']]"
   ]
  },
  {
   "cell_type": "code",
   "execution_count": 5,
   "metadata": {},
   "outputs": [
    {
     "data": {
      "text/html": [
       "<div>\n",
       "<style scoped>\n",
       "    .dataframe tbody tr th:only-of-type {\n",
       "        vertical-align: middle;\n",
       "    }\n",
       "\n",
       "    .dataframe tbody tr th {\n",
       "        vertical-align: top;\n",
       "    }\n",
       "\n",
       "    .dataframe thead th {\n",
       "        text-align: right;\n",
       "    }\n",
       "</style>\n",
       "<table border=\"1\" class=\"dataframe\">\n",
       "  <thead>\n",
       "    <tr style=\"text-align: right;\">\n",
       "      <th></th>\n",
       "      <th>popularity</th>\n",
       "      <th>acousticness</th>\n",
       "      <th>danceability</th>\n",
       "      <th>energy</th>\n",
       "      <th>instrumentalness</th>\n",
       "      <th>liveness</th>\n",
       "      <th>loudness</th>\n",
       "      <th>speechiness</th>\n",
       "      <th>tempo</th>\n",
       "      <th>duration_ms</th>\n",
       "      <th>valence</th>\n",
       "    </tr>\n",
       "  </thead>\n",
       "  <tbody>\n",
       "    <tr>\n",
       "      <th>1781</th>\n",
       "      <td>0.465909</td>\n",
       "      <td>0.023713</td>\n",
       "      <td>0.553626</td>\n",
       "      <td>0.895632</td>\n",
       "      <td>0.000000</td>\n",
       "      <td>0.119304</td>\n",
       "      <td>0.948962</td>\n",
       "      <td>0.073002</td>\n",
       "      <td>0.593380</td>\n",
       "      <td>0.041572</td>\n",
       "      <td>0.303590</td>\n",
       "    </tr>\n",
       "    <tr>\n",
       "      <th>2798</th>\n",
       "      <td>0.420455</td>\n",
       "      <td>0.000062</td>\n",
       "      <td>0.563841</td>\n",
       "      <td>0.870543</td>\n",
       "      <td>0.149646</td>\n",
       "      <td>0.084485</td>\n",
       "      <td>0.876020</td>\n",
       "      <td>0.094168</td>\n",
       "      <td>0.473036</td>\n",
       "      <td>0.058690</td>\n",
       "      <td>0.351795</td>\n",
       "    </tr>\n",
       "    <tr>\n",
       "      <th>13</th>\n",
       "      <td>0.477273</td>\n",
       "      <td>0.961809</td>\n",
       "      <td>0.346272</td>\n",
       "      <td>0.230283</td>\n",
       "      <td>0.959555</td>\n",
       "      <td>0.066052</td>\n",
       "      <td>0.566711</td>\n",
       "      <td>0.044168</td>\n",
       "      <td>0.412250</td>\n",
       "      <td>0.102665</td>\n",
       "      <td>0.182564</td>\n",
       "    </tr>\n",
       "    <tr>\n",
       "      <th>318</th>\n",
       "      <td>0.204545</td>\n",
       "      <td>0.004095</td>\n",
       "      <td>0.802860</td>\n",
       "      <td>0.499232</td>\n",
       "      <td>0.943377</td>\n",
       "      <td>0.099846</td>\n",
       "      <td>0.611773</td>\n",
       "      <td>0.056587</td>\n",
       "      <td>0.556543</td>\n",
       "      <td>0.083733</td>\n",
       "      <td>0.298462</td>\n",
       "    </tr>\n",
       "    <tr>\n",
       "      <th>2633</th>\n",
       "      <td>0.227273</td>\n",
       "      <td>0.089442</td>\n",
       "      <td>0.460674</td>\n",
       "      <td>0.621664</td>\n",
       "      <td>0.000008</td>\n",
       "      <td>0.142857</td>\n",
       "      <td>0.888988</td>\n",
       "      <td>0.046328</td>\n",
       "      <td>0.408225</td>\n",
       "      <td>0.075314</td>\n",
       "      <td>0.210256</td>\n",
       "    </tr>\n",
       "  </tbody>\n",
       "</table>\n",
       "</div>"
      ],
      "text/plain": [
       "      popularity  acousticness  danceability    energy  instrumentalness  \\\n",
       "1781    0.465909      0.023713      0.553626  0.895632          0.000000   \n",
       "2798    0.420455      0.000062      0.563841  0.870543          0.149646   \n",
       "13      0.477273      0.961809      0.346272  0.230283          0.959555   \n",
       "318     0.204545      0.004095      0.802860  0.499232          0.943377   \n",
       "2633    0.227273      0.089442      0.460674  0.621664          0.000008   \n",
       "\n",
       "      liveness  loudness  speechiness     tempo  duration_ms   valence  \n",
       "1781  0.119304  0.948962     0.073002  0.593380     0.041572  0.303590  \n",
       "2798  0.084485  0.876020     0.094168  0.473036     0.058690  0.351795  \n",
       "13    0.066052  0.566711     0.044168  0.412250     0.102665  0.182564  \n",
       "318   0.099846  0.611773     0.056587  0.556543     0.083733  0.298462  \n",
       "2633  0.142857  0.888988     0.046328  0.408225     0.075314  0.210256  "
      ]
     },
     "execution_count": 5,
     "metadata": {},
     "output_type": "execute_result"
    }
   ],
   "source": [
    "def normalize(X):\n",
    "    dataNorm=((X-X.min())/(X.max()-X.min()))\n",
    "    return dataNorm\n",
    "\n",
    "df_features = normalize(df_features)\n",
    "df_features.sample(5)"
   ]
  },
  {
   "cell_type": "code",
   "execution_count": 6,
   "metadata": {},
   "outputs": [
    {
     "data": {
      "image/png": "[encoded data removed]",
      "text/plain": [
       "<Figure size 432x288 with 1 Axes>"
      ]
     },
     "metadata": {
      "needs_background": "light"
     },
     "output_type": "display_data"
    }
   ],
   "source": [
    "sse = {}\n",
    "for k in range(1, 15):\n",
    "    kmeans = KMeans(n_clusters=k, random_state=2, max_iter=1000).fit(df_features)\n",
    "#    df_features[\"clusters\"] = kmeans.labels_\n",
    "    sse[k] = kmeans.inertia_ # Inertia: Sum of distances of samples to their closest cluster center\n",
    "plt.figure()\n",
    "plt.plot(list(sse.keys()), list(sse.values()))\n",
    "plt.xlabel(\"Number of cluster\")\n",
    "plt.ylabel(\"SSE\")\n",
    "plt.show()"
   ]
  },
  {
   "cell_type": "markdown",
   "metadata": {},
   "source": [
    "From the elbow plot we see no clear \"elbow\" except maybe at 3 clusters.  However, only three clusters would allow for a considerate amount of overlap of the genres in each cluster.  We can see another slight elbow at 6 clusters so let's use that."
   ]
  },
  {
   "cell_type": "code",
   "execution_count": 7,
   "metadata": {},
   "outputs": [],
   "source": [
    "kmeans = KMeans(n_clusters = 6)\n",
    "kmeans.fit(df_features)\n",
    "y_kmeans = kmeans.predict(df_features)"
   ]
  },
  {
   "cell_type": "code",
   "execution_count": 8,
   "metadata": {},
   "outputs": [
    {
     "data": {
      "text/html": [
       "<div>\n",
       "<style scoped>\n",
       "    .dataframe tbody tr th:only-of-type {\n",
       "        vertical-align: middle;\n",
       "    }\n",
       "\n",
       "    .dataframe tbody tr th {\n",
       "        vertical-align: top;\n",
       "    }\n",
       "\n",
       "    .dataframe thead th {\n",
       "        text-align: right;\n",
       "    }\n",
       "</style>\n",
       "<table border=\"1\" class=\"dataframe\">\n",
       "  <thead>\n",
       "    <tr style=\"text-align: right;\">\n",
       "      <th></th>\n",
       "      <th>Unnamed: 0</th>\n",
       "      <th>artist_name</th>\n",
       "      <th>track_name</th>\n",
       "      <th>track_id</th>\n",
       "      <th>popularity</th>\n",
       "      <th>acousticness</th>\n",
       "      <th>analysis_url</th>\n",
       "      <th>danceability</th>\n",
       "      <th>duration_ms</th>\n",
       "      <th>energy</th>\n",
       "      <th>...</th>\n",
       "      <th>loudness</th>\n",
       "      <th>mode</th>\n",
       "      <th>speechiness</th>\n",
       "      <th>tempo</th>\n",
       "      <th>time_signature</th>\n",
       "      <th>track_href</th>\n",
       "      <th>type</th>\n",
       "      <th>uri</th>\n",
       "      <th>valence</th>\n",
       "      <th>genre</th>\n",
       "    </tr>\n",
       "  </thead>\n",
       "  <tbody>\n",
       "    <tr>\n",
       "      <th>0</th>\n",
       "      <td>0</td>\n",
       "      <td>Cubicolor</td>\n",
       "      <td>Fictionalise - Lindstrom &amp; Prins Thomas Extend...</td>\n",
       "      <td>1m8BthDjfQS47iuULONgLi</td>\n",
       "      <td>12</td>\n",
       "      <td>0.0510</td>\n",
       "      <td>https://api.spotify.com/v1/audio-analysis/1m8B...</td>\n",
       "      <td>0.635</td>\n",
       "      <td>583263</td>\n",
       "      <td>0.829</td>\n",
       "      <td>...</td>\n",
       "      <td>-8.771</td>\n",
       "      <td>0</td>\n",
       "      <td>0.0415</td>\n",
       "      <td>116.989</td>\n",
       "      <td>4</td>\n",
       "      <td>https://api.spotify.com/v1/tracks/1m8BthDjfQS4...</td>\n",
       "      <td>audio_features</td>\n",
       "      <td>spotify:track:1m8BthDjfQS47iuULONgLi</td>\n",
       "      <td>0.6360</td>\n",
       "      <td>2</td>\n",
       "    </tr>\n",
       "    <tr>\n",
       "      <th>1</th>\n",
       "      <td>1</td>\n",
       "      <td>Cubicolor</td>\n",
       "      <td>Fictionalise - Lindstrom &amp; Prins Thomas Remix</td>\n",
       "      <td>40X549muIHXIvWoj2S6MKb</td>\n",
       "      <td>16</td>\n",
       "      <td>0.1350</td>\n",
       "      <td>https://api.spotify.com/v1/audio-analysis/40X5...</td>\n",
       "      <td>0.616</td>\n",
       "      <td>312301</td>\n",
       "      <td>0.863</td>\n",
       "      <td>...</td>\n",
       "      <td>-10.520</td>\n",
       "      <td>0</td>\n",
       "      <td>0.0377</td>\n",
       "      <td>116.978</td>\n",
       "      <td>4</td>\n",
       "      <td>https://api.spotify.com/v1/tracks/40X549muIHXI...</td>\n",
       "      <td>audio_features</td>\n",
       "      <td>spotify:track:40X549muIHXIvWoj2S6MKb</td>\n",
       "      <td>0.5270</td>\n",
       "      <td>2</td>\n",
       "    </tr>\n",
       "    <tr>\n",
       "      <th>2</th>\n",
       "      <td>2</td>\n",
       "      <td>Cubicolor</td>\n",
       "      <td>Dead End Thrills - Patrice Bäumel Remix</td>\n",
       "      <td>3MEjDXwQWnDzqwRanBgFzm</td>\n",
       "      <td>37</td>\n",
       "      <td>0.2800</td>\n",
       "      <td>https://api.spotify.com/v1/audio-analysis/3MEj...</td>\n",
       "      <td>0.700</td>\n",
       "      <td>443661</td>\n",
       "      <td>0.673</td>\n",
       "      <td>...</td>\n",
       "      <td>-10.217</td>\n",
       "      <td>1</td>\n",
       "      <td>0.0374</td>\n",
       "      <td>122.008</td>\n",
       "      <td>3</td>\n",
       "      <td>https://api.spotify.com/v1/tracks/3MEjDXwQWnDz...</td>\n",
       "      <td>audio_features</td>\n",
       "      <td>spotify:track:3MEjDXwQWnDzqwRanBgFzm</td>\n",
       "      <td>0.1430</td>\n",
       "      <td>0</td>\n",
       "    </tr>\n",
       "    <tr>\n",
       "      <th>3</th>\n",
       "      <td>3</td>\n",
       "      <td>Cubicolor</td>\n",
       "      <td>Counterpart</td>\n",
       "      <td>2Jm5TBQziCdySQg2J7w0PN</td>\n",
       "      <td>33</td>\n",
       "      <td>0.4200</td>\n",
       "      <td>https://api.spotify.com/v1/audio-analysis/2Jm5...</td>\n",
       "      <td>0.361</td>\n",
       "      <td>314043</td>\n",
       "      <td>0.471</td>\n",
       "      <td>...</td>\n",
       "      <td>-12.726</td>\n",
       "      <td>1</td>\n",
       "      <td>0.0441</td>\n",
       "      <td>122.845</td>\n",
       "      <td>4</td>\n",
       "      <td>https://api.spotify.com/v1/tracks/2Jm5TBQziCdy...</td>\n",
       "      <td>audio_features</td>\n",
       "      <td>spotify:track:2Jm5TBQziCdySQg2J7w0PN</td>\n",
       "      <td>0.0392</td>\n",
       "      <td>1</td>\n",
       "    </tr>\n",
       "    <tr>\n",
       "      <th>4</th>\n",
       "      <td>4</td>\n",
       "      <td>Cubicolor</td>\n",
       "      <td>No Dancers</td>\n",
       "      <td>6NH78lyZkS05PotKqg0ZKw</td>\n",
       "      <td>45</td>\n",
       "      <td>0.0146</td>\n",
       "      <td>https://api.spotify.com/v1/audio-analysis/6NH7...</td>\n",
       "      <td>0.577</td>\n",
       "      <td>347717</td>\n",
       "      <td>0.853</td>\n",
       "      <td>...</td>\n",
       "      <td>-11.989</td>\n",
       "      <td>0</td>\n",
       "      <td>0.0384</td>\n",
       "      <td>119.988</td>\n",
       "      <td>4</td>\n",
       "      <td>https://api.spotify.com/v1/tracks/6NH78lyZkS05...</td>\n",
       "      <td>audio_features</td>\n",
       "      <td>spotify:track:6NH78lyZkS05PotKqg0ZKw</td>\n",
       "      <td>0.1400</td>\n",
       "      <td>4</td>\n",
       "    </tr>\n",
       "  </tbody>\n",
       "</table>\n",
       "<p>5 rows × 23 columns</p>\n",
       "</div>"
      ],
      "text/plain": [
       "   Unnamed: 0 artist_name                                         track_name  \\\n",
       "0           0   Cubicolor  Fictionalise - Lindstrom & Prins Thomas Extend...   \n",
       "1           1   Cubicolor      Fictionalise - Lindstrom & Prins Thomas Remix   \n",
       "2           2   Cubicolor            Dead End Thrills - Patrice Bäumel Remix   \n",
       "3           3   Cubicolor                                        Counterpart   \n",
       "4           4   Cubicolor                                         No Dancers   \n",
       "\n",
       "                 track_id  popularity  acousticness  \\\n",
       "0  1m8BthDjfQS47iuULONgLi          12        0.0510   \n",
       "1  40X549muIHXIvWoj2S6MKb          16        0.1350   \n",
       "2  3MEjDXwQWnDzqwRanBgFzm          37        0.2800   \n",
       "3  2Jm5TBQziCdySQg2J7w0PN          33        0.4200   \n",
       "4  6NH78lyZkS05PotKqg0ZKw          45        0.0146   \n",
       "\n",
       "                                        analysis_url  danceability  \\\n",
       "0  https://api.spotify.com/v1/audio-analysis/1m8B...         0.635   \n",
       "1  https://api.spotify.com/v1/audio-analysis/40X5...         0.616   \n",
       "2  https://api.spotify.com/v1/audio-analysis/3MEj...         0.700   \n",
       "3  https://api.spotify.com/v1/audio-analysis/2Jm5...         0.361   \n",
       "4  https://api.spotify.com/v1/audio-analysis/6NH7...         0.577   \n",
       "\n",
       "   duration_ms  energy  ...  loudness  mode  speechiness    tempo  \\\n",
       "0       583263   0.829  ...    -8.771     0       0.0415  116.989   \n",
       "1       312301   0.863  ...   -10.520     0       0.0377  116.978   \n",
       "2       443661   0.673  ...   -10.217     1       0.0374  122.008   \n",
       "3       314043   0.471  ...   -12.726     1       0.0441  122.845   \n",
       "4       347717   0.853  ...   -11.989     0       0.0384  119.988   \n",
       "\n",
       "   time_signature                                         track_href  \\\n",
       "0               4  https://api.spotify.com/v1/tracks/1m8BthDjfQS4...   \n",
       "1               4  https://api.spotify.com/v1/tracks/40X549muIHXI...   \n",
       "2               3  https://api.spotify.com/v1/tracks/3MEjDXwQWnDz...   \n",
       "3               4  https://api.spotify.com/v1/tracks/2Jm5TBQziCdy...   \n",
       "4               4  https://api.spotify.com/v1/tracks/6NH78lyZkS05...   \n",
       "\n",
       "             type                                   uri valence genre  \n",
       "0  audio_features  spotify:track:1m8BthDjfQS47iuULONgLi  0.6360     2  \n",
       "1  audio_features  spotify:track:40X549muIHXIvWoj2S6MKb  0.5270     2  \n",
       "2  audio_features  spotify:track:3MEjDXwQWnDzqwRanBgFzm  0.1430     0  \n",
       "3  audio_features  spotify:track:2Jm5TBQziCdySQg2J7w0PN  0.0392     1  \n",
       "4  audio_features  spotify:track:6NH78lyZkS05PotKqg0ZKw  0.1400     4  \n",
       "\n",
       "[5 rows x 23 columns]"
      ]
     },
     "execution_count": 8,
     "metadata": {},
     "output_type": "execute_result"
    }
   ],
   "source": [
    "df['genre'] = y_kmeans\n",
    "df['genre'] = df['genre'].astype('category') # cast a categorical variable\n",
    "df.head()"
   ]
  },
  {
   "cell_type": "markdown",
   "metadata": {},
   "source": [
    "From just looking directly at the raw data it is difficult to determine how representative each cluster is to a genre.  So instead, we will make playlists from each cluster so we can listen to them!"
   ]
  },
  {
   "cell_type": "markdown",
   "metadata": {},
   "source": [
    "# Creating Playlists\n",
    "\n",
    "We will need to create another Spotify API token with the correct scope to allow us to create and save a playlist to my Spotify library."
   ]
  },
  {
   "cell_type": "code",
   "execution_count": 13,
   "metadata": {},
   "outputs": [
    {
     "name": "stdout",
     "output_type": "stream",
     "text": [
      "Creating playlist from Cluster 0\n",
      "Creating playlist from Cluster 1\n",
      "Creating playlist from Cluster 2\n",
      "Creating playlist from Cluster 3\n",
      "Creating playlist from Cluster 4\n",
      "Creating playlist from Cluster 5\n"
     ]
    }
   ],
   "source": [
    "# Make sure that app.js from authorization_code directory is running\n",
    "# node app.js\n",
    "\n",
    "# API scopes\n",
    "'''\n",
    "user-read-private \\\n",
    "user-read-email \\\n",
    "user-read-recently-played \\\n",
    "user-read-playback-state \\\n",
    "user-read-currently-playing \\\n",
    "user-library-read \\\n",
    "playlist-modify-public \\\n",
    "playlist-read-private \\\n",
    "user-follow-read \\\n",
    "user-top-read streaming\n",
    "'''\n",
    "\n",
    "import os\n",
    "import spotipy\n",
    "from spotipy.oauth2 import SpotifyClientCredentials\n",
    "import spotipy.util as util\n",
    "\n",
    "\n",
    "# Retreive client_id and _client_secret from environment variables\n",
    "CLIENT_ID = os.getenv('SPOTIFY_CLIENT_ID')\n",
    "CLIENT_SECRET = os.getenv('SPOTIFY_CLIENT_SECRET')\n",
    "REDIRECT_URI = \"http://localhost/2222/callback/\"\n",
    "USERNAME = \"1266075212\"\n",
    "#username = \"UGGN-mPDSl6K8SoSPtYCEQ\"  # You can checkout my profile if you are really curious\n",
    "SCOPE = 'user-library-read \\\n",
    "        playlist-modify-public \\\n",
    "        playlist-modify-private \\\n",
    "        playlist-read-private' \n",
    "\n",
    "# Setting Spotify Client Credentials\n",
    "#client_credentials_manager = SpotifyClientCredentials(client_id=CLIENT_ID, \n",
    "#                                                      client_secret=CLIENT_SECRET)\n",
    "#sp = spotipy.Spotify(client_credentials_manager=client_credentials_manager)\n",
    "\n",
    "# Retrieving API token\n",
    "token = util.prompt_for_user_token(username = USERNAME, \n",
    "                                   scope = SCOPE, \n",
    "                                   client_id = CLIENT_ID, \n",
    "                                   client_secret = CLIENT_SECRET, \n",
    "                                   redirect_uri = REDIRECT_URI)\n",
    "if token:\n",
    "   sp = spotipy.Spotify(auth=token)\n",
    "\n",
    "# For each level in \"genre\" create a playlist and add all tracks in that genre\n",
    "if token:\n",
    "    # save API token\n",
    "    sp = spotipy.Spotify(auth=token)\n",
    "    playlist_id = []\n",
    "    num_playlists = len(df['genre'].cat.categories)\n",
    "    for i in range(0, num_playlists):\n",
    "        print(\"Creating playlist from Cluster\", i)\n",
    "        # Create a new playlist\n",
    "        playlist_name = 'Cluster ' + str(df['genre'].cat.categories[i])\n",
    "        playlist_id.append(sp.user_playlist_create(USERNAME, playlist_name, public=True))\n",
    "        \n",
    "        # Subsetting data frame by genre\n",
    "        df_genre = df[df['genre'] == i]\n",
    "        tracks = list(df_genre['track_id'])\n",
    "        #tracks = df_genre['uri'].tolist()\n",
    "        \n",
    "        # Add tracks to playlist\n",
    "        batchsize = 100\n",
    "        for j in range(0, len(tracks), batchsize):\n",
    "            add_track = tracks[j]\n",
    "            sp.user_playlist_add_tracks(USERNAME, playlist_id[i]['id'], tracks[i:i+batchsize], position=None)\n",
    "        \n",
    "        \n",
    "else:\n",
    "    print(\"Can't get token for\", username)\n"
   ]
  },
  {
   "cell_type": "markdown",
   "metadata": {},
   "source": [
    "Now we listen to our newly created playlists 😃"
   ]
  },
  {
   "cell_type": "code",
   "execution_count": 213,
   "metadata": {},
   "outputs": [
    {
     "data": {
      "text/html": [
       "<style>\n",
       ".output {\n",
       "    flex-direction: row;\n",
       "    flex-wrap: wrap;\n",
       "    padding: 10px;\n",
       "}\n",
       "</style>"
      ],
      "text/plain": [
       "<IPython.core.display.HTML object>"
      ]
     },
     "execution_count": 213,
     "metadata": {},
     "output_type": "execute_result"
    }
   ],
   "source": [
    "# Formatting for Spotify web players\n",
    "from IPython.display import display, HTML\n",
    "CSS = \"\"\"\n",
    ".output {\n",
    "    flex-direction: row;\n",
    "    flex-wrap: wrap;\n",
    "}\n",
    "\"\"\"\n",
    "HTML('<style>{}</style>'.format(CSS))"
   ]
  },
  {
   "cell_type": "code",
   "execution_count": 16,
   "metadata": {},
   "outputs": [
    {
     "data": {
      "text/html": [
       "\n",
       "        <iframe\n",
       "            width=\"300\"\n",
       "            height=\"380\"\n",
       "            src=\"https://open.spotify.com/embed/playlist/1s7BsQZA5thfxPN1OlXGcV\"\n",
       "            frameborder=\"0\"\n",
       "            allowfullscreen\n",
       "        ></iframe>\n",
       "        "
      ],
      "text/plain": [
       "<IPython.lib.display.IFrame at 0x1295b9dd8>"
      ]
     },
     "metadata": {},
     "output_type": "display_data"
    },
    {
     "data": {
      "text/html": [
       "\n",
       "        <iframe\n",
       "            width=\"300\"\n",
       "            height=\"380\"\n",
       "            src=\"https://open.spotify.com/embed/playlist/7t2r9kSlOQgaLUbuVuBSfi\"\n",
       "            frameborder=\"0\"\n",
       "            allowfullscreen\n",
       "        ></iframe>\n",
       "        "
      ],
      "text/plain": [
       "<IPython.lib.display.IFrame at 0x12afb8ba8>"
      ]
     },
     "metadata": {},
     "output_type": "display_data"
    },
    {
     "data": {
      "text/html": [
       "\n",
       "        <iframe\n",
       "            width=\"300\"\n",
       "            height=\"380\"\n",
       "            src=\"https://open.spotify.com/embed/playlist/5pit5DD0xZ1IUpilAjLLEl\"\n",
       "            frameborder=\"0\"\n",
       "            allowfullscreen\n",
       "        ></iframe>\n",
       "        "
      ],
      "text/plain": [
       "<IPython.lib.display.IFrame at 0x12afb8ba8>"
      ]
     },
     "metadata": {},
     "output_type": "display_data"
    },
    {
     "data": {
      "text/html": [
       "\n",
       "        <iframe\n",
       "            width=\"300\"\n",
       "            height=\"380\"\n",
       "            src=\"https://open.spotify.com/embed/playlist/2QTj1hhsejpSYMoOPRnF8P\"\n",
       "            frameborder=\"0\"\n",
       "            allowfullscreen\n",
       "        ></iframe>\n",
       "        "
      ],
      "text/plain": [
       "<IPython.lib.display.IFrame at 0x12afb8ba8>"
      ]
     },
     "metadata": {},
     "output_type": "display_data"
    },
    {
     "data": {
      "text/html": [
       "\n",
       "        <iframe\n",
       "            width=\"300\"\n",
       "            height=\"380\"\n",
       "            src=\"https://open.spotify.com/embed/playlist/6EsaAs0QKdumCnbEa2Vunc\"\n",
       "            frameborder=\"0\"\n",
       "            allowfullscreen\n",
       "        ></iframe>\n",
       "        "
      ],
      "text/plain": [
       "<IPython.lib.display.IFrame at 0x12afb8ba8>"
      ]
     },
     "metadata": {},
     "output_type": "display_data"
    },
    {
     "data": {
      "text/html": [
       "\n",
       "        <iframe\n",
       "            width=\"300\"\n",
       "            height=\"380\"\n",
       "            src=\"https://open.spotify.com/embed/playlist/7Dfp5U4AqzO8dH9hLiZTz1\"\n",
       "            frameborder=\"0\"\n",
       "            allowfullscreen\n",
       "        ></iframe>\n",
       "        "
      ],
      "text/plain": [
       "<IPython.lib.display.IFrame at 0x12afb8ba8>"
      ]
     },
     "metadata": {},
     "output_type": "display_data"
    }
   ],
   "source": [
    "for i in range(0, len(playlist_id)):\n",
    "    playlist_url = \"https://open.spotify.com/embed/playlist/\" + playlist_id[i]['id']\n",
    "    display(IFrame(src=playlist_url, width=300, height=380))"
   ]
  },
  {
   "cell_type": "markdown",
   "metadata": {},
   "source": [
    "It seems that generally, these playlists are senisble.  Though playlists seem to have large overlap or just flat out group tracks together that I would never think to put together -- Cubicolor with Metallica (even if it is the SF Symphony version) just seems plain wrong.  That just means there is room for improvement!  "
   ]
  },
  {
   "cell_type": "markdown",
   "metadata": {},
   "source": [
    "# What's Next?\n",
    "\n",
    "We have made some clusters from the data and created playlists from them.  Where do we go from here?  There are a few things we can begin to look into:\n",
    "\n",
    "+ First off, these playlists are HUGE.  We \n",
    "+ We can try another clustering algorithm that can use continuous and categorical data so we can use the `key` and `mode` audio features.  \n",
    "+ We can also try to find subgenres in the clusters we just found such as: \"house\", \"techno\", \"trance\", \"trap\", \"bass\" under the \"electronic\" genre.  We can take it even further and try to find even more subgenres in those subgenres such as: \"big-room house\", \"deep house\", \"tropical house\", \"acid house\", and \"progressive house\".  We may start to run into problems involving sparsity of data however.\n",
    "+ We can try to find more features for the Spotify tracks, potential using the [Spotify Audio Analysis](https://developer.spotify.com/documentation/web-api/reference/tracks/get-audio-analysis/) API endpoint.  The audio analysis gives more insight into what's happening as discrete points in the song and could allow us to find more subtleties in the tracks. \n",
    "\n",
    "\n",
    "1. [Data Retrieval](https://github.com/rtedwards/spotify-data-visualizations/blob/master/spotify-data-visualizations/spotify-data-retrieval.ipynb) walks through collecting liked tracks using Spotipy as a Python wrapper for the Spotify API and attaching audio features to each track and storing in a dataframe.\n",
    "2. [Data Exploration](https://github.com/rtedwards/spotify-data-visualizations/blob/master/spotify-data-visualizations/spotify-data-exploration.ipynb) is an exploratory data analysis of my liked tracks\n",
    "3. [Data Clustering](https://github.com/rtedwards/spotify-data-visualizations/blob/master/spotify-data-visualizations/spotify-data-clustering.ipynb)  attempts to finds genres in my liked tracks using K-Means clustering\n"
   ]
  },
  {
   "cell_type": "code",
   "execution_count": null,
   "metadata": {},
   "outputs": [],
   "source": []
  }
 ],
 "metadata": {
  "kernelspec": {
   "display_name": "Python 3",
   "language": "python",
   "name": "python3"
  },
  "language_info": {
   "codemirror_mode": {
    "name": "ipython",
    "version": 3
   },
   "file_extension": ".py",
   "mimetype": "text/x-python",
   "name": "python",
   "nbconvert_exporter": "python",
   "pygments_lexer": "ipython3",
   "version": "3.6.8"
  }
 },
 "nbformat": 4,
 "nbformat_minor": 2
}
