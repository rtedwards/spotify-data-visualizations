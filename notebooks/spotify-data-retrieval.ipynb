{
 "cells": [
  {
   "cell_type": "markdown",
   "metadata": {},
   "source": [
    "# Data Collection Using Spotify Web API\n",
    "\n",
    "## Purpose of Notebook\n",
    "The purpose of this notebook is to show how to collect and store audio features data for tracks from the [official Spotify Web API](https://developer.spotify.com/documentation/web-api/) for futher exploratory data analysis and machine learning.  \n",
    "\n",
    "## Related Notebooks\n",
    "\n",
    "1. **[Data Retrieval](https://nbviewer.jupyter.org/github/rtedwards/spotify-data-visualizations/blob/master/notebooks/spotify-data-exploration.ipynb)** walks through collecting liked tracks using Spotipy as a Python wrapper for the Spotify API and attaching audio features to each track and storing in a dataframe.\n",
    "2. [Data Exploration](https://nbviewer.jupyter.org/github/rtedwards/spotify-data-visualizations/blob/master/notebooks/spotify-data-visualizations/spotify-data-exploration.ipynb) is an exploratory data analysis of my liked tracks\n",
    "3. [Data Clustering](https://nbviewer.jupyter.org/github/rtedwards/spotify-data-visualizations/blob/master/notebooks/spotify-data-visualizations/spotify-data-clustering.ipynb)  attempts to finds genres in my liked tracks using K-Means clustering\n",
    "\n",
    "## Spotify Web API\n",
    "Spotify has a number of [API endpoints](https://developer.spotify.com/documentation/web-api/reference-beta/) available to access the Spoitfy data.  In this notebook, I use the following endpoints:\n",
    "\n",
    "+ [search endpoint](https://developer.spotify.com/documentation/web-api/reference/search/search/) to get the track IDs\n",
    "+ [audio features endpoint](https://developer.spotify.com/documentation/web-api/reference/tracks/get-several-audio-features/) to get the corresponding audio features."
   ]
  },
  {
   "cell_type": "markdown",
   "metadata": {},
   "source": [
    "# 1. Setup\n",
    "The following code uses `spotipy` from the [Spotify](https://spotipy.readthedocs.io/en/latest/) library.  Spotipy is a python library for accessing the Spotify web API.  "
   ]
  },
  {
   "cell_type": "code",
   "execution_count": 1,
   "metadata": {},
   "outputs": [],
   "source": [
    "'''\n",
    "user-read-private \\\n",
    "user-read-email \\\n",
    "user-read-recently-played \\\n",
    "user-read-playback-state \\\n",
    "user-read-currently-playing \\\n",
    "user-library-read \\\n",
    "playlist-modify-public \\\n",
    "playlist-read-private \\\n",
    "user-follow-read \\\n",
    "user-top-read streaming\n",
    "'''\n",
    "\n",
    "import os  # for accessing environment variables\n",
    "import time  # for execution times\n",
    "import spotipy  # python library for Spotify API\n",
    "from spotipy.oauth2 import SpotifyClientCredentials\n",
    "import spotipy.util as util\n",
    "import seaborn as sns\n",
    "import pandas as pd"
   ]
  },
  {
   "cell_type": "markdown",
   "metadata": {},
   "source": [
    "# 2. Data Collection\n",
    "\n",
    "Data collection is done in 2 parts: first the track IDs and then the audio features for each track ID. "
   ]
  },
  {
   "cell_type": "code",
   "execution_count": 2,
   "metadata": {},
   "outputs": [],
   "source": [
    "# Retreive client_id and client_secret from environment variables\n",
    "CLIENT_ID = os.getenv('SPOTIFY_CLIENT_ID')\n",
    "CLIENT_SECRET = os.getenv('SPOTIFY_CLIENT_SECRET')\n",
    "REDIRECT_URI = \"http://localhost:2222/\"\n",
    "USERNAME = \"\"\n",
    "SCOPE = 'user-library-read \\\n",
    "        playlist-read-private' \n",
    "\n",
    "# Setting Spotify Client Credentials\n",
    "client_credentials_manager = SpotifyClientCredentials(client_id=CLIENT_ID, client_secret=CLIENT_SECRET)\n",
    "sp = spotipy.Spotify(client_credentials_manager=client_credentials_manager)\n",
    "\n",
    "# Retrieving API token\n",
    "token = util.prompt_for_user_token(USERNAME, SCOPE, CLIENT_ID, CLIENT_SECRET, REDIRECT_URI)\n"
   ]
  },
  {
   "cell_type": "markdown",
   "metadata": {},
   "source": [
    "## I. Retrieving Saved Tracks"
   ]
  },
  {
   "cell_type": "code",
   "execution_count": 3,
   "metadata": {},
   "outputs": [
    {
     "name": "stdout",
     "output_type": "stream",
     "text": [
      "Time to run this code (in seconds): 15.997757911682129\n"
     ]
    }
   ],
   "source": [
    "if token:\n",
    "    # timeit library to measure the time needed to run this code\n",
    "    start = time.time()\n",
    "    \n",
    "    # create empty lists where the results are going to be stored\n",
    "    artist_name = []\n",
    "    track_name = []\n",
    "    popularity = []\n",
    "    track_id = []\n",
    "    num_tracks = 3500\n",
    "    sp = spotipy.Spotify(auth=token)\n",
    "    \n",
    "    for i in range(0,num_tracks,50):\n",
    "        track_results = sp.current_user_saved_tracks(limit=50, offset=i)\n",
    "        for item in track_results['items']:\n",
    "            track = item['track']\n",
    "            artist_name.append(track['artists'][0]['name'])\n",
    "            track_name.append(track['name'])\n",
    "            track_id.append(track['id'])\n",
    "            popularity.append(track['popularity'])\n",
    "        \n",
    "    stop = time.time()\n",
    "    print ('Time to run this code (in seconds):', stop - start)\n",
    "    \n",
    "else:\n",
    "    print(\"Can't get token for\", username)\n",
    "    "
   ]
  },
  {
   "cell_type": "markdown",
   "metadata": {},
   "source": [
    "Checking `track_id` list"
   ]
  },
  {
   "cell_type": "code",
   "execution_count": 4,
   "metadata": {},
   "outputs": [
    {
     "name": "stdout",
     "output_type": "stream",
     "text": [
      "number of elements in track_id list: 3240\n"
     ]
    }
   ],
   "source": [
    "print('number of elements in track_id list:', len(track_id))"
   ]
  },
  {
   "cell_type": "markdown",
   "metadata": {},
   "source": [
    "Loading data into a dataframe"
   ]
  },
  {
   "cell_type": "code",
   "execution_count": 5,
   "metadata": {},
   "outputs": [
    {
     "name": "stdout",
     "output_type": "stream",
     "text": [
      "(3240, 4)\n"
     ]
    },
    {
     "data": {
      "text/html": [
       "<div>\n",
       "<style scoped>\n",
       "    .dataframe tbody tr th:only-of-type {\n",
       "        vertical-align: middle;\n",
       "    }\n",
       "\n",
       "    .dataframe tbody tr th {\n",
       "        vertical-align: top;\n",
       "    }\n",
       "\n",
       "    .dataframe thead th {\n",
       "        text-align: right;\n",
       "    }\n",
       "</style>\n",
       "<table border=\"1\" class=\"dataframe\">\n",
       "  <thead>\n",
       "    <tr style=\"text-align: right;\">\n",
       "      <th></th>\n",
       "      <th>artist_name</th>\n",
       "      <th>track_name</th>\n",
       "      <th>track_id</th>\n",
       "      <th>popularity</th>\n",
       "    </tr>\n",
       "  </thead>\n",
       "  <tbody>\n",
       "    <tr>\n",
       "      <th>0</th>\n",
       "      <td>Cubicolor</td>\n",
       "      <td>Fictionalise - Lindstrom &amp; Prins Thomas Extend...</td>\n",
       "      <td>1m8BthDjfQS47iuULONgLi</td>\n",
       "      <td>12</td>\n",
       "    </tr>\n",
       "    <tr>\n",
       "      <th>1</th>\n",
       "      <td>Cubicolor</td>\n",
       "      <td>Fictionalise - Lindstrom &amp; Prins Thomas Remix</td>\n",
       "      <td>40X549muIHXIvWoj2S6MKb</td>\n",
       "      <td>16</td>\n",
       "    </tr>\n",
       "    <tr>\n",
       "      <th>2</th>\n",
       "      <td>Cubicolor</td>\n",
       "      <td>Dead End Thrills - Patrice Bäumel Remix</td>\n",
       "      <td>3MEjDXwQWnDzqwRanBgFzm</td>\n",
       "      <td>37</td>\n",
       "    </tr>\n",
       "    <tr>\n",
       "      <th>3</th>\n",
       "      <td>Cubicolor</td>\n",
       "      <td>Counterpart</td>\n",
       "      <td>2Jm5TBQziCdySQg2J7w0PN</td>\n",
       "      <td>33</td>\n",
       "    </tr>\n",
       "    <tr>\n",
       "      <th>4</th>\n",
       "      <td>Cubicolor</td>\n",
       "      <td>No Dancers</td>\n",
       "      <td>6NH78lyZkS05PotKqg0ZKw</td>\n",
       "      <td>45</td>\n",
       "    </tr>\n",
       "  </tbody>\n",
       "</table>\n",
       "</div>"
      ],
      "text/plain": [
       "  artist_name                                         track_name  \\\n",
       "0   Cubicolor  Fictionalise - Lindstrom & Prins Thomas Extend...   \n",
       "1   Cubicolor      Fictionalise - Lindstrom & Prins Thomas Remix   \n",
       "2   Cubicolor            Dead End Thrills - Patrice Bäumel Remix   \n",
       "3   Cubicolor                                        Counterpart   \n",
       "4   Cubicolor                                         No Dancers   \n",
       "\n",
       "                 track_id  popularity  \n",
       "0  1m8BthDjfQS47iuULONgLi          12  \n",
       "1  40X549muIHXIvWoj2S6MKb          16  \n",
       "2  3MEjDXwQWnDzqwRanBgFzm          37  \n",
       "3  2Jm5TBQziCdySQg2J7w0PN          33  \n",
       "4  6NH78lyZkS05PotKqg0ZKw          45  "
      ]
     },
     "execution_count": 5,
     "metadata": {},
     "output_type": "execute_result"
    }
   ],
   "source": [
    "df_tracks = pd.DataFrame({'artist_name':artist_name, \n",
    "                          'track_name':track_name, \n",
    "                          'track_id':track_id, \n",
    "                          'popularity':popularity})\n",
    "print(df_tracks.shape)\n",
    "df_tracks.head()"
   ]
  },
  {
   "cell_type": "markdown",
   "metadata": {},
   "source": [
    "Let's view some information about the dataframe:"
   ]
  },
  {
   "cell_type": "code",
   "execution_count": 64,
   "metadata": {},
   "outputs": [
    {
     "name": "stdout",
     "output_type": "stream",
     "text": [
      "<class 'pandas.core.frame.DataFrame'>\n",
      "RangeIndex: 3240 entries, 0 to 3239\n",
      "Data columns (total 4 columns):\n",
      "artist_name    3240 non-null object\n",
      "track_name     3240 non-null object\n",
      "track_id       3240 non-null object\n",
      "popularity     3240 non-null int64\n",
      "dtypes: int64(1), object(3)\n",
      "memory usage: 101.3+ KB\n"
     ]
    }
   ],
   "source": [
    "df_tracks.info()"
   ]
  },
  {
   "cell_type": "markdown",
   "metadata": {},
   "source": [
    "## Checking Our Data\n",
    "There can be duplicates of the same track under different IDs.  This is caused by the track being released in single albums and full albums. "
   ]
  },
  {
   "cell_type": "code",
   "execution_count": 65,
   "metadata": {},
   "outputs": [
    {
     "data": {
      "text/plain": [
       "artist_name    185\n",
       "track_name     185\n",
       "track_id       185\n",
       "popularity     185\n",
       "dtype: int64"
      ]
     },
     "execution_count": 65,
     "metadata": {},
     "output_type": "execute_result"
    }
   ],
   "source": [
    "df_tracks[df_tracks.duplicated(subset=['artist_name','track_name'], keep=False)].count()"
   ]
  },
  {
   "cell_type": "code",
   "execution_count": 66,
   "metadata": {},
   "outputs": [
    {
     "name": "stdout",
     "output_type": "stream",
     "text": [
      "Number of duplicate tracks:  91\n"
     ]
    }
   ],
   "source": [
    "# group the entries by artist_name and track_name and check for duplicates\n",
    "\n",
    "duplicates = df_tracks.groupby(['artist_name','track_name'], as_index=True).size()\n",
    "print(\"Number of duplicate tracks: \", duplicates[duplicates > 1].count() )\n"
   ]
  },
  {
   "cell_type": "markdown",
   "metadata": {},
   "source": [
    "Dropping duplicate tracks:"
   ]
  },
  {
   "cell_type": "code",
   "execution_count": 67,
   "metadata": {},
   "outputs": [],
   "source": [
    "df_tracks.drop_duplicates(subset=['artist_name', 'track_name'], inplace=True)"
   ]
  },
  {
   "cell_type": "markdown",
   "metadata": {},
   "source": [
    "Check again for duplicates:"
   ]
  },
  {
   "cell_type": "code",
   "execution_count": 68,
   "metadata": {},
   "outputs": [
    {
     "name": "stdout",
     "output_type": "stream",
     "text": [
      "Number of duplicate tracks:  0\n"
     ]
    }
   ],
   "source": [
    "# group the entries by artist_name and track_name and check for duplicates\n",
    "\n",
    "duplicates = df_tracks.groupby(['artist_name','track_name'], as_index=True).size()\n",
    "print(\"Number of duplicate tracks: \", duplicates[duplicates > 1].count() )\n"
   ]
  },
  {
   "cell_type": "markdown",
   "metadata": {},
   "source": [
    "Now to check the shape of our data:"
   ]
  },
  {
   "cell_type": "code",
   "execution_count": 69,
   "metadata": {},
   "outputs": [
    {
     "data": {
      "text/plain": [
       "(3146, 4)"
      ]
     },
     "execution_count": 69,
     "metadata": {},
     "output_type": "execute_result"
    }
   ],
   "source": [
    "df_tracks.shape"
   ]
  },
  {
   "cell_type": "markdown",
   "metadata": {},
   "source": [
    "# II. Retrieve Audio Features for each Track\n",
    "Using the [audio features endpoint](https://developer.spotify.com/documentation/web-api/reference/tracks/get-several-audio-features/) we can retrieve the audio features data for the tracks we have collected.\n",
    "\n",
    "There is a 100 track ID limit per query for this endpoint.  We can use anested for loop to pull track IDs in batches of size 100. "
   ]
  },
  {
   "cell_type": "code",
   "execution_count": 70,
   "metadata": {},
   "outputs": [
    {
     "name": "stdout",
     "output_type": "stream",
     "text": [
      "Number of tracks where no audio features were available: 0\n",
      "Code runtime (sec): 3.805426836013794\n"
     ]
    }
   ],
   "source": [
    "# Measuring time\n",
    "start = time.time()\n",
    "\n",
    "rows = []\n",
    "batchsize = 100\n",
    "None_counter = 0\n",
    "\n",
    "for i in range(0, len(df_tracks['track_id']), batchsize): \n",
    "    batch = df_tracks['track_id'][i:i+batchsize]\n",
    "    feature_results = sp.audio_features(batch)\n",
    "    \n",
    "    for i, t in enumerate(feature_results):\n",
    "        if t == None:\n",
    "            None_counter = None_counter + 1\n",
    "        else:\n",
    "            rows.append(t)\n",
    "            \n",
    "print('Number of tracks where no audio features were available:', None_counter)\n",
    "\n",
    "stop = time.time()\n",
    "print ('Code runtime (sec):', stop - start)"
   ]
  },
  {
   "cell_type": "code",
   "execution_count": 71,
   "metadata": {},
   "outputs": [
    {
     "name": "stdout",
     "output_type": "stream",
     "text": [
      "Number of elements in audio_features list: 3146\n"
     ]
    }
   ],
   "source": [
    "print('Number of elements in audio_features list:', len(rows))"
   ]
  },
  {
   "cell_type": "code",
   "execution_count": 72,
   "metadata": {},
   "outputs": [
    {
     "name": "stdout",
     "output_type": "stream",
     "text": [
      "Shape of dataset: (3146, 18)\n"
     ]
    },
    {
     "data": {
      "text/html": [
       "<div>\n",
       "<style scoped>\n",
       "    .dataframe tbody tr th:only-of-type {\n",
       "        vertical-align: middle;\n",
       "    }\n",
       "\n",
       "    .dataframe tbody tr th {\n",
       "        vertical-align: top;\n",
       "    }\n",
       "\n",
       "    .dataframe thead th {\n",
       "        text-align: right;\n",
       "    }\n",
       "</style>\n",
       "<table border=\"1\" class=\"dataframe\">\n",
       "  <thead>\n",
       "    <tr style=\"text-align: right;\">\n",
       "      <th></th>\n",
       "      <th>acousticness</th>\n",
       "      <th>analysis_url</th>\n",
       "      <th>danceability</th>\n",
       "      <th>duration_ms</th>\n",
       "      <th>energy</th>\n",
       "      <th>id</th>\n",
       "      <th>instrumentalness</th>\n",
       "      <th>key</th>\n",
       "      <th>liveness</th>\n",
       "      <th>loudness</th>\n",
       "      <th>mode</th>\n",
       "      <th>speechiness</th>\n",
       "      <th>tempo</th>\n",
       "      <th>time_signature</th>\n",
       "      <th>track_href</th>\n",
       "      <th>type</th>\n",
       "      <th>uri</th>\n",
       "      <th>valence</th>\n",
       "    </tr>\n",
       "  </thead>\n",
       "  <tbody>\n",
       "    <tr>\n",
       "      <th>0</th>\n",
       "      <td>0.0510</td>\n",
       "      <td>https://api.spotify.com/v1/audio-analysis/1m8B...</td>\n",
       "      <td>0.635</td>\n",
       "      <td>583263</td>\n",
       "      <td>0.829</td>\n",
       "      <td>1m8BthDjfQS47iuULONgLi</td>\n",
       "      <td>0.742</td>\n",
       "      <td>1</td>\n",
       "      <td>0.113</td>\n",
       "      <td>-8.771</td>\n",
       "      <td>0</td>\n",
       "      <td>0.0415</td>\n",
       "      <td>116.989</td>\n",
       "      <td>4</td>\n",
       "      <td>https://api.spotify.com/v1/tracks/1m8BthDjfQS4...</td>\n",
       "      <td>audio_features</td>\n",
       "      <td>spotify:track:1m8BthDjfQS47iuULONgLi</td>\n",
       "      <td>0.6360</td>\n",
       "    </tr>\n",
       "    <tr>\n",
       "      <th>1</th>\n",
       "      <td>0.1350</td>\n",
       "      <td>https://api.spotify.com/v1/audio-analysis/40X5...</td>\n",
       "      <td>0.616</td>\n",
       "      <td>312301</td>\n",
       "      <td>0.863</td>\n",
       "      <td>40X549muIHXIvWoj2S6MKb</td>\n",
       "      <td>0.556</td>\n",
       "      <td>1</td>\n",
       "      <td>0.158</td>\n",
       "      <td>-10.520</td>\n",
       "      <td>0</td>\n",
       "      <td>0.0377</td>\n",
       "      <td>116.978</td>\n",
       "      <td>4</td>\n",
       "      <td>https://api.spotify.com/v1/tracks/40X549muIHXI...</td>\n",
       "      <td>audio_features</td>\n",
       "      <td>spotify:track:40X549muIHXIvWoj2S6MKb</td>\n",
       "      <td>0.5270</td>\n",
       "    </tr>\n",
       "    <tr>\n",
       "      <th>2</th>\n",
       "      <td>0.2800</td>\n",
       "      <td>https://api.spotify.com/v1/audio-analysis/3MEj...</td>\n",
       "      <td>0.700</td>\n",
       "      <td>443661</td>\n",
       "      <td>0.673</td>\n",
       "      <td>3MEjDXwQWnDzqwRanBgFzm</td>\n",
       "      <td>0.240</td>\n",
       "      <td>7</td>\n",
       "      <td>0.102</td>\n",
       "      <td>-10.217</td>\n",
       "      <td>1</td>\n",
       "      <td>0.0374</td>\n",
       "      <td>122.008</td>\n",
       "      <td>3</td>\n",
       "      <td>https://api.spotify.com/v1/tracks/3MEjDXwQWnDz...</td>\n",
       "      <td>audio_features</td>\n",
       "      <td>spotify:track:3MEjDXwQWnDzqwRanBgFzm</td>\n",
       "      <td>0.1430</td>\n",
       "    </tr>\n",
       "    <tr>\n",
       "      <th>3</th>\n",
       "      <td>0.4200</td>\n",
       "      <td>https://api.spotify.com/v1/audio-analysis/2Jm5...</td>\n",
       "      <td>0.361</td>\n",
       "      <td>314043</td>\n",
       "      <td>0.471</td>\n",
       "      <td>2Jm5TBQziCdySQg2J7w0PN</td>\n",
       "      <td>0.884</td>\n",
       "      <td>0</td>\n",
       "      <td>0.084</td>\n",
       "      <td>-12.726</td>\n",
       "      <td>1</td>\n",
       "      <td>0.0441</td>\n",
       "      <td>122.845</td>\n",
       "      <td>4</td>\n",
       "      <td>https://api.spotify.com/v1/tracks/2Jm5TBQziCdy...</td>\n",
       "      <td>audio_features</td>\n",
       "      <td>spotify:track:2Jm5TBQziCdySQg2J7w0PN</td>\n",
       "      <td>0.0392</td>\n",
       "    </tr>\n",
       "    <tr>\n",
       "      <th>4</th>\n",
       "      <td>0.0146</td>\n",
       "      <td>https://api.spotify.com/v1/audio-analysis/6NH7...</td>\n",
       "      <td>0.577</td>\n",
       "      <td>347717</td>\n",
       "      <td>0.853</td>\n",
       "      <td>6NH78lyZkS05PotKqg0ZKw</td>\n",
       "      <td>0.438</td>\n",
       "      <td>6</td>\n",
       "      <td>0.249</td>\n",
       "      <td>-11.989</td>\n",
       "      <td>0</td>\n",
       "      <td>0.0384</td>\n",
       "      <td>119.988</td>\n",
       "      <td>4</td>\n",
       "      <td>https://api.spotify.com/v1/tracks/6NH78lyZkS05...</td>\n",
       "      <td>audio_features</td>\n",
       "      <td>spotify:track:6NH78lyZkS05PotKqg0ZKw</td>\n",
       "      <td>0.1400</td>\n",
       "    </tr>\n",
       "  </tbody>\n",
       "</table>\n",
       "</div>"
      ],
      "text/plain": [
       "   acousticness                                       analysis_url  \\\n",
       "0        0.0510  https://api.spotify.com/v1/audio-analysis/1m8B...   \n",
       "1        0.1350  https://api.spotify.com/v1/audio-analysis/40X5...   \n",
       "2        0.2800  https://api.spotify.com/v1/audio-analysis/3MEj...   \n",
       "3        0.4200  https://api.spotify.com/v1/audio-analysis/2Jm5...   \n",
       "4        0.0146  https://api.spotify.com/v1/audio-analysis/6NH7...   \n",
       "\n",
       "   danceability  duration_ms  energy                      id  \\\n",
       "0         0.635       583263   0.829  1m8BthDjfQS47iuULONgLi   \n",
       "1         0.616       312301   0.863  40X549muIHXIvWoj2S6MKb   \n",
       "2         0.700       443661   0.673  3MEjDXwQWnDzqwRanBgFzm   \n",
       "3         0.361       314043   0.471  2Jm5TBQziCdySQg2J7w0PN   \n",
       "4         0.577       347717   0.853  6NH78lyZkS05PotKqg0ZKw   \n",
       "\n",
       "   instrumentalness  key  liveness  loudness  mode  speechiness    tempo  \\\n",
       "0             0.742    1     0.113    -8.771     0       0.0415  116.989   \n",
       "1             0.556    1     0.158   -10.520     0       0.0377  116.978   \n",
       "2             0.240    7     0.102   -10.217     1       0.0374  122.008   \n",
       "3             0.884    0     0.084   -12.726     1       0.0441  122.845   \n",
       "4             0.438    6     0.249   -11.989     0       0.0384  119.988   \n",
       "\n",
       "   time_signature                                         track_href  \\\n",
       "0               4  https://api.spotify.com/v1/tracks/1m8BthDjfQS4...   \n",
       "1               4  https://api.spotify.com/v1/tracks/40X549muIHXI...   \n",
       "2               3  https://api.spotify.com/v1/tracks/3MEjDXwQWnDz...   \n",
       "3               4  https://api.spotify.com/v1/tracks/2Jm5TBQziCdy...   \n",
       "4               4  https://api.spotify.com/v1/tracks/6NH78lyZkS05...   \n",
       "\n",
       "             type                                   uri  valence  \n",
       "0  audio_features  spotify:track:1m8BthDjfQS47iuULONgLi   0.6360  \n",
       "1  audio_features  spotify:track:40X549muIHXIvWoj2S6MKb   0.5270  \n",
       "2  audio_features  spotify:track:3MEjDXwQWnDzqwRanBgFzm   0.1430  \n",
       "3  audio_features  spotify:track:2Jm5TBQziCdySQg2J7w0PN   0.0392  \n",
       "4  audio_features  spotify:track:6NH78lyZkS05PotKqg0ZKw   0.1400  "
      ]
     },
     "execution_count": 72,
     "metadata": {},
     "output_type": "execute_result"
    }
   ],
   "source": [
    "df_audio_features = pd.DataFrame.from_dict(rows, orient='columns')\n",
    "print(\"Shape of dataset:\", df_audio_features.shape)\n",
    "df_audio_features.head()"
   ]
  },
  {
   "cell_type": "markdown",
   "metadata": {},
   "source": [
    "Renaming `id` to `track_id` to match the `df_tracks` dataframe:"
   ]
  },
  {
   "cell_type": "code",
   "execution_count": 73,
   "metadata": {},
   "outputs": [
    {
     "data": {
      "text/plain": [
       "(3146, 18)"
      ]
     },
     "execution_count": 73,
     "metadata": {},
     "output_type": "execute_result"
    }
   ],
   "source": [
    "df_audio_features.rename(columns = {'id': 'track_id'}, inplace=True)\n",
    "df_audio_features.shape # checking our progress"
   ]
  },
  {
   "cell_type": "markdown",
   "metadata": {},
   "source": [
    "To combine the two dataframes we do an inner merge to only keep track IDs that are in both datasets."
   ]
  },
  {
   "cell_type": "code",
   "execution_count": 74,
   "metadata": {},
   "outputs": [
    {
     "name": "stdout",
     "output_type": "stream",
     "text": [
      "Shape of dataset: (3146, 21)\n"
     ]
    },
    {
     "data": {
      "text/html": [
       "<div>\n",
       "<style scoped>\n",
       "    .dataframe tbody tr th:only-of-type {\n",
       "        vertical-align: middle;\n",
       "    }\n",
       "\n",
       "    .dataframe tbody tr th {\n",
       "        vertical-align: top;\n",
       "    }\n",
       "\n",
       "    .dataframe thead th {\n",
       "        text-align: right;\n",
       "    }\n",
       "</style>\n",
       "<table border=\"1\" class=\"dataframe\">\n",
       "  <thead>\n",
       "    <tr style=\"text-align: right;\">\n",
       "      <th></th>\n",
       "      <th>artist_name</th>\n",
       "      <th>track_name</th>\n",
       "      <th>track_id</th>\n",
       "      <th>popularity</th>\n",
       "      <th>acousticness</th>\n",
       "      <th>analysis_url</th>\n",
       "      <th>danceability</th>\n",
       "      <th>duration_ms</th>\n",
       "      <th>energy</th>\n",
       "      <th>instrumentalness</th>\n",
       "      <th>...</th>\n",
       "      <th>liveness</th>\n",
       "      <th>loudness</th>\n",
       "      <th>mode</th>\n",
       "      <th>speechiness</th>\n",
       "      <th>tempo</th>\n",
       "      <th>time_signature</th>\n",
       "      <th>track_href</th>\n",
       "      <th>type</th>\n",
       "      <th>uri</th>\n",
       "      <th>valence</th>\n",
       "    </tr>\n",
       "  </thead>\n",
       "  <tbody>\n",
       "    <tr>\n",
       "      <th>0</th>\n",
       "      <td>Cubicolor</td>\n",
       "      <td>Fictionalise - Lindstrom &amp; Prins Thomas Extend...</td>\n",
       "      <td>1m8BthDjfQS47iuULONgLi</td>\n",
       "      <td>12</td>\n",
       "      <td>0.0510</td>\n",
       "      <td>https://api.spotify.com/v1/audio-analysis/1m8B...</td>\n",
       "      <td>0.635</td>\n",
       "      <td>583263</td>\n",
       "      <td>0.829</td>\n",
       "      <td>0.742</td>\n",
       "      <td>...</td>\n",
       "      <td>0.113</td>\n",
       "      <td>-8.771</td>\n",
       "      <td>0</td>\n",
       "      <td>0.0415</td>\n",
       "      <td>116.989</td>\n",
       "      <td>4</td>\n",
       "      <td>https://api.spotify.com/v1/tracks/1m8BthDjfQS4...</td>\n",
       "      <td>audio_features</td>\n",
       "      <td>spotify:track:1m8BthDjfQS47iuULONgLi</td>\n",
       "      <td>0.6360</td>\n",
       "    </tr>\n",
       "    <tr>\n",
       "      <th>1</th>\n",
       "      <td>Cubicolor</td>\n",
       "      <td>Fictionalise - Lindstrom &amp; Prins Thomas Remix</td>\n",
       "      <td>40X549muIHXIvWoj2S6MKb</td>\n",
       "      <td>16</td>\n",
       "      <td>0.1350</td>\n",
       "      <td>https://api.spotify.com/v1/audio-analysis/40X5...</td>\n",
       "      <td>0.616</td>\n",
       "      <td>312301</td>\n",
       "      <td>0.863</td>\n",
       "      <td>0.556</td>\n",
       "      <td>...</td>\n",
       "      <td>0.158</td>\n",
       "      <td>-10.520</td>\n",
       "      <td>0</td>\n",
       "      <td>0.0377</td>\n",
       "      <td>116.978</td>\n",
       "      <td>4</td>\n",
       "      <td>https://api.spotify.com/v1/tracks/40X549muIHXI...</td>\n",
       "      <td>audio_features</td>\n",
       "      <td>spotify:track:40X549muIHXIvWoj2S6MKb</td>\n",
       "      <td>0.5270</td>\n",
       "    </tr>\n",
       "    <tr>\n",
       "      <th>2</th>\n",
       "      <td>Cubicolor</td>\n",
       "      <td>Dead End Thrills - Patrice Bäumel Remix</td>\n",
       "      <td>3MEjDXwQWnDzqwRanBgFzm</td>\n",
       "      <td>37</td>\n",
       "      <td>0.2800</td>\n",
       "      <td>https://api.spotify.com/v1/audio-analysis/3MEj...</td>\n",
       "      <td>0.700</td>\n",
       "      <td>443661</td>\n",
       "      <td>0.673</td>\n",
       "      <td>0.240</td>\n",
       "      <td>...</td>\n",
       "      <td>0.102</td>\n",
       "      <td>-10.217</td>\n",
       "      <td>1</td>\n",
       "      <td>0.0374</td>\n",
       "      <td>122.008</td>\n",
       "      <td>3</td>\n",
       "      <td>https://api.spotify.com/v1/tracks/3MEjDXwQWnDz...</td>\n",
       "      <td>audio_features</td>\n",
       "      <td>spotify:track:3MEjDXwQWnDzqwRanBgFzm</td>\n",
       "      <td>0.1430</td>\n",
       "    </tr>\n",
       "    <tr>\n",
       "      <th>3</th>\n",
       "      <td>Cubicolor</td>\n",
       "      <td>Counterpart</td>\n",
       "      <td>2Jm5TBQziCdySQg2J7w0PN</td>\n",
       "      <td>33</td>\n",
       "      <td>0.4200</td>\n",
       "      <td>https://api.spotify.com/v1/audio-analysis/2Jm5...</td>\n",
       "      <td>0.361</td>\n",
       "      <td>314043</td>\n",
       "      <td>0.471</td>\n",
       "      <td>0.884</td>\n",
       "      <td>...</td>\n",
       "      <td>0.084</td>\n",
       "      <td>-12.726</td>\n",
       "      <td>1</td>\n",
       "      <td>0.0441</td>\n",
       "      <td>122.845</td>\n",
       "      <td>4</td>\n",
       "      <td>https://api.spotify.com/v1/tracks/2Jm5TBQziCdy...</td>\n",
       "      <td>audio_features</td>\n",
       "      <td>spotify:track:2Jm5TBQziCdySQg2J7w0PN</td>\n",
       "      <td>0.0392</td>\n",
       "    </tr>\n",
       "    <tr>\n",
       "      <th>4</th>\n",
       "      <td>Cubicolor</td>\n",
       "      <td>No Dancers</td>\n",
       "      <td>6NH78lyZkS05PotKqg0ZKw</td>\n",
       "      <td>45</td>\n",
       "      <td>0.0146</td>\n",
       "      <td>https://api.spotify.com/v1/audio-analysis/6NH7...</td>\n",
       "      <td>0.577</td>\n",
       "      <td>347717</td>\n",
       "      <td>0.853</td>\n",
       "      <td>0.438</td>\n",
       "      <td>...</td>\n",
       "      <td>0.249</td>\n",
       "      <td>-11.989</td>\n",
       "      <td>0</td>\n",
       "      <td>0.0384</td>\n",
       "      <td>119.988</td>\n",
       "      <td>4</td>\n",
       "      <td>https://api.spotify.com/v1/tracks/6NH78lyZkS05...</td>\n",
       "      <td>audio_features</td>\n",
       "      <td>spotify:track:6NH78lyZkS05PotKqg0ZKw</td>\n",
       "      <td>0.1400</td>\n",
       "    </tr>\n",
       "  </tbody>\n",
       "</table>\n",
       "<p>5 rows × 21 columns</p>\n",
       "</div>"
      ],
      "text/plain": [
       "  artist_name                                         track_name  \\\n",
       "0   Cubicolor  Fictionalise - Lindstrom & Prins Thomas Extend...   \n",
       "1   Cubicolor      Fictionalise - Lindstrom & Prins Thomas Remix   \n",
       "2   Cubicolor            Dead End Thrills - Patrice Bäumel Remix   \n",
       "3   Cubicolor                                        Counterpart   \n",
       "4   Cubicolor                                         No Dancers   \n",
       "\n",
       "                 track_id  popularity  acousticness  \\\n",
       "0  1m8BthDjfQS47iuULONgLi          12        0.0510   \n",
       "1  40X549muIHXIvWoj2S6MKb          16        0.1350   \n",
       "2  3MEjDXwQWnDzqwRanBgFzm          37        0.2800   \n",
       "3  2Jm5TBQziCdySQg2J7w0PN          33        0.4200   \n",
       "4  6NH78lyZkS05PotKqg0ZKw          45        0.0146   \n",
       "\n",
       "                                        analysis_url  danceability  \\\n",
       "0  https://api.spotify.com/v1/audio-analysis/1m8B...         0.635   \n",
       "1  https://api.spotify.com/v1/audio-analysis/40X5...         0.616   \n",
       "2  https://api.spotify.com/v1/audio-analysis/3MEj...         0.700   \n",
       "3  https://api.spotify.com/v1/audio-analysis/2Jm5...         0.361   \n",
       "4  https://api.spotify.com/v1/audio-analysis/6NH7...         0.577   \n",
       "\n",
       "   duration_ms  energy  instrumentalness  ...  liveness  loudness  mode  \\\n",
       "0       583263   0.829             0.742  ...     0.113    -8.771     0   \n",
       "1       312301   0.863             0.556  ...     0.158   -10.520     0   \n",
       "2       443661   0.673             0.240  ...     0.102   -10.217     1   \n",
       "3       314043   0.471             0.884  ...     0.084   -12.726     1   \n",
       "4       347717   0.853             0.438  ...     0.249   -11.989     0   \n",
       "\n",
       "   speechiness    tempo  time_signature  \\\n",
       "0       0.0415  116.989               4   \n",
       "1       0.0377  116.978               4   \n",
       "2       0.0374  122.008               3   \n",
       "3       0.0441  122.845               4   \n",
       "4       0.0384  119.988               4   \n",
       "\n",
       "                                          track_href            type  \\\n",
       "0  https://api.spotify.com/v1/tracks/1m8BthDjfQS4...  audio_features   \n",
       "1  https://api.spotify.com/v1/tracks/40X549muIHXI...  audio_features   \n",
       "2  https://api.spotify.com/v1/tracks/3MEjDXwQWnDz...  audio_features   \n",
       "3  https://api.spotify.com/v1/tracks/2Jm5TBQziCdy...  audio_features   \n",
       "4  https://api.spotify.com/v1/tracks/6NH78lyZkS05...  audio_features   \n",
       "\n",
       "                                    uri valence  \n",
       "0  spotify:track:1m8BthDjfQS47iuULONgLi  0.6360  \n",
       "1  spotify:track:40X549muIHXIvWoj2S6MKb  0.5270  \n",
       "2  spotify:track:3MEjDXwQWnDzqwRanBgFzm  0.1430  \n",
       "3  spotify:track:2Jm5TBQziCdySQg2J7w0PN  0.0392  \n",
       "4  spotify:track:6NH78lyZkS05PotKqg0ZKw  0.1400  \n",
       "\n",
       "[5 rows x 21 columns]"
      ]
     },
     "execution_count": 74,
     "metadata": {},
     "output_type": "execute_result"
    }
   ],
   "source": [
    "df = pd.merge(df_tracks, df_audio_features, on='track_id', how='inner')\n",
    "print(\"Shape of dataset:\", df.shape)\n",
    "df.head()"
   ]
  },
  {
   "cell_type": "code",
   "execution_count": 79,
   "metadata": {},
   "outputs": [
    {
     "name": "stdout",
     "output_type": "stream",
     "text": [
      "<class 'pandas.core.frame.DataFrame'>\n",
      "Int64Index: 3146 entries, 0 to 3145\n",
      "Data columns (total 21 columns):\n",
      "artist_name         3146 non-null object\n",
      "track_name          3146 non-null object\n",
      "track_id            3146 non-null object\n",
      "popularity          3146 non-null int64\n",
      "acousticness        3146 non-null float64\n",
      "analysis_url        3146 non-null object\n",
      "danceability        3146 non-null float64\n",
      "duration_ms         3146 non-null int64\n",
      "energy              3146 non-null float64\n",
      "instrumentalness    3146 non-null float64\n",
      "key                 3146 non-null int64\n",
      "liveness            3146 non-null float64\n",
      "loudness            3146 non-null float64\n",
      "mode                3146 non-null int64\n",
      "speechiness         3146 non-null float64\n",
      "tempo               3146 non-null float64\n",
      "time_signature      3146 non-null int64\n",
      "track_href          3146 non-null object\n",
      "type                3146 non-null object\n",
      "uri                 3146 non-null object\n",
      "valence             3146 non-null float64\n",
      "dtypes: float64(9), int64(5), object(7)\n",
      "memory usage: 540.7+ KB\n"
     ]
    }
   ],
   "source": [
    "df.info()"
   ]
  },
  {
   "cell_type": "code",
   "execution_count": 76,
   "metadata": {},
   "outputs": [],
   "source": [
    "df.to_csv('data/saved-songs.csv')"
   ]
  },
  {
   "cell_type": "markdown",
   "metadata": {},
   "source": [
    "# What's Next?\n",
    "\n",
    "Now that we have collected our data in part 2 we will spend some time exploring the data.  \n",
    "\n",
    "1. [Data Retrieval](https://nbviewer.jupyter.org/github/rtedwards/spotify-data-visualizations/blob/master/notebooks/spotify-data-visualizations/spotify-data-retrieval.ipynb) walks through collecting liked tracks using Spotipy as a Python wrapper for the Spotify API and attaching audio features to each track and storing in a dataframe.\n",
    "2. **[Data Exploration](https://nbviewer.jupyter.org/github/rtedwards/spotify-data-visualizations/blob/master/notebooks/spotify-data-exploration.ipynb)** is an exploratory data analysis of my liked tracks\n",
    "3. [Data Clustering](https://nbviewer.jupyter.org/github/rtedwards/spotify-data-visualizations/blob/master/notebooks/spotify-data-visualizations/spotify-data-clustering.ipynb)  attempts to finds genres in my liked tracks using K-Means clustering"
   ]
  },
  {
   "cell_type": "code",
   "execution_count": null,
   "metadata": {},
   "outputs": [],
   "source": []
  }
 ],
 "metadata": {
  "kernelspec": {
   "display_name": "Python 3",
   "language": "python",
   "name": "python3"
  },
  "language_info": {
   "codemirror_mode": {
    "name": "ipython",
    "version": 3
   },
   "file_extension": ".py",
   "mimetype": "text/x-python",
   "name": "python",
   "nbconvert_exporter": "python",
   "pygments_lexer": "ipython3",
   "version": "3.6.8"
  }
 },
 "nbformat": 4,
 "nbformat_minor": 2
}
